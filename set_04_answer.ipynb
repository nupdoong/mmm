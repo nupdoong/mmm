{
 "cells": [
  {
   "cell_type": "code",
   "execution_count": 2,
   "id": "6827b092-3934-4fea-a026-fb0e9e812e9c",
   "metadata": {},
   "outputs": [],
   "source": [
    "import pandas as pd\n",
    "import numpy as np\n",
    "\n",
    "from sklearn.preprocessing import MinMaxScaler\n",
    "from sklearn.cluster import KMeans\n",
    "from sklearn.metrics import silhouette_score"
   ]
  },
  {
   "cell_type": "code",
   "execution_count": 3,
   "id": "c28e592c-decf-4549-a5a2-227c36565c2e",
   "metadata": {},
   "outputs": [
    {
     "data": {
      "text/html": [
       "<div>\n",
       "<style scoped>\n",
       "    .dataframe tbody tr th:only-of-type {\n",
       "        vertical-align: middle;\n",
       "    }\n",
       "\n",
       "    .dataframe tbody tr th {\n",
       "        vertical-align: top;\n",
       "    }\n",
       "\n",
       "    .dataframe thead th {\n",
       "        text-align: right;\n",
       "    }\n",
       "</style>\n",
       "<table border=\"1\" class=\"dataframe\">\n",
       "  <thead>\n",
       "    <tr style=\"text-align: right;\">\n",
       "      <th></th>\n",
       "      <th>user</th>\n",
       "      <th>prod</th>\n",
       "      <th>gender</th>\n",
       "      <th>age_group</th>\n",
       "      <th>job</th>\n",
       "      <th>city</th>\n",
       "      <th>marital</th>\n",
       "      <th>prod_cat1</th>\n",
       "      <th>prod_cat2</th>\n",
       "      <th>prod_cat3</th>\n",
       "      <th>purchase</th>\n",
       "    </tr>\n",
       "  </thead>\n",
       "  <tbody>\n",
       "    <tr>\n",
       "      <th>0</th>\n",
       "      <td>1</td>\n",
       "      <td>P00069042</td>\n",
       "      <td>F</td>\n",
       "      <td>0-17</td>\n",
       "      <td>10</td>\n",
       "      <td>A</td>\n",
       "      <td>0</td>\n",
       "      <td>3</td>\n",
       "      <td>NaN</td>\n",
       "      <td>NaN</td>\n",
       "      <td>8370</td>\n",
       "    </tr>\n",
       "    <tr>\n",
       "      <th>1</th>\n",
       "      <td>1</td>\n",
       "      <td>P00248942</td>\n",
       "      <td>F</td>\n",
       "      <td>0-17</td>\n",
       "      <td>10</td>\n",
       "      <td>A</td>\n",
       "      <td>0</td>\n",
       "      <td>1</td>\n",
       "      <td>6.0</td>\n",
       "      <td>14.0</td>\n",
       "      <td>15200</td>\n",
       "    </tr>\n",
       "  </tbody>\n",
       "</table>\n",
       "</div>"
      ],
      "text/plain": [
       "   user       prod gender age_group  job city  marital  prod_cat1  prod_cat2  \\\n",
       "0     1  P00069042      F      0-17   10    A        0          3        NaN   \n",
       "1     1  P00248942      F      0-17   10    A        0          1        6.0   \n",
       "\n",
       "   prod_cat3  purchase  \n",
       "0        NaN      8370  \n",
       "1       14.0     15200  "
      ]
     },
     "execution_count": 3,
     "metadata": {},
     "output_type": "execute_result"
    }
   ],
   "source": [
    "df = pd.read_csv(\"sales_pos.csv\")\n",
    "df.head(2)"
   ]
  },
  {
   "cell_type": "markdown",
   "id": "d1c1632e-c4d7-4550-8f81-3f536309552a",
   "metadata": {},
   "source": [
    "### Q1."
   ]
  },
  {
   "cell_type": "code",
   "execution_count": 4,
   "id": "6f5e5263-7745-4ca2-881e-d23cb7d7d501",
   "metadata": {},
   "outputs": [
    {
     "data": {
      "text/plain": [
       "27995166"
      ]
     },
     "execution_count": 4,
     "metadata": {},
     "output_type": "execute_result"
    }
   ],
   "source": [
    "ser_g = df.groupby(\"prod\")[\"purchase\"].sum()\n",
    "ser_g.max()"
   ]
  },
  {
   "cell_type": "code",
   "execution_count": 5,
   "id": "4434c9b8-7150-4c16-9adf-cd41bdffb5f2",
   "metadata": {},
   "outputs": [
    {
     "data": {
      "text/plain": [
       "prod\n",
       "P00025442    27995166\n",
       "Name: purchase, dtype: int64"
      ]
     },
     "execution_count": 5,
     "metadata": {},
     "output_type": "execute_result"
    }
   ],
   "source": [
    "ser_g[ser_g == ser_g.max()]"
   ]
  },
  {
   "cell_type": "code",
   "execution_count": 6,
   "id": "5e2e0a6d-d26f-4c45-8b55-aa08fef41e16",
   "metadata": {},
   "outputs": [
    {
     "data": {
      "text/plain": [
       "'P00025442'"
      ]
     },
     "execution_count": 6,
     "metadata": {},
     "output_type": "execute_result"
    }
   ],
   "source": [
    "top_prod = ser_g.idxmax()\n",
    "top_prod"
   ]
  },
  {
   "cell_type": "code",
   "execution_count": 7,
   "id": "ed7ebc4d-9102-4931-bdce-da4057758881",
   "metadata": {},
   "outputs": [
    {
     "data": {
      "text/plain": [
       "4"
      ]
     },
     "execution_count": 7,
     "metadata": {},
     "output_type": "execute_result"
    }
   ],
   "source": [
    "df_q1 = df.loc[df[\"prod\"] == top_prod, ]\n",
    "df_q1[\"job\"].value_counts().idxmax()"
   ]
  },
  {
   "cell_type": "markdown",
   "id": "062a2071-3bab-4d19-9d65-e2f06e32c2af",
   "metadata": {},
   "source": [
    "### Q2."
   ]
  },
  {
   "cell_type": "code",
   "execution_count": 8,
   "id": "1080709d-42c5-4f8f-81e2-374c48f953b9",
   "metadata": {},
   "outputs": [
    {
     "data": {
      "text/html": [
       "<div>\n",
       "<style scoped>\n",
       "    .dataframe tbody tr th:only-of-type {\n",
       "        vertical-align: middle;\n",
       "    }\n",
       "\n",
       "    .dataframe tbody tr th {\n",
       "        vertical-align: top;\n",
       "    }\n",
       "\n",
       "    .dataframe thead th {\n",
       "        text-align: right;\n",
       "    }\n",
       "</style>\n",
       "<table border=\"1\" class=\"dataframe\">\n",
       "  <thead>\n",
       "    <tr style=\"text-align: right;\">\n",
       "      <th></th>\n",
       "      <th>prod_cat1</th>\n",
       "      <th>prod_cat2</th>\n",
       "      <th>prod_cat3</th>\n",
       "    </tr>\n",
       "  </thead>\n",
       "  <tbody>\n",
       "    <tr>\n",
       "      <th>0</th>\n",
       "      <td>3</td>\n",
       "      <td>0.0</td>\n",
       "      <td>0.0</td>\n",
       "    </tr>\n",
       "    <tr>\n",
       "      <th>1</th>\n",
       "      <td>1</td>\n",
       "      <td>6.0</td>\n",
       "      <td>14.0</td>\n",
       "    </tr>\n",
       "  </tbody>\n",
       "</table>\n",
       "</div>"
      ],
      "text/plain": [
       "   prod_cat1  prod_cat2  prod_cat3\n",
       "0          3        0.0        0.0\n",
       "1          1        6.0       14.0"
      ]
     },
     "execution_count": 8,
     "metadata": {},
     "output_type": "execute_result"
    }
   ],
   "source": [
    "df_u1 = df.loc[df[\"user\"] == 1, [\"prod_cat1\", \"prod_cat2\", \"prod_cat3\"]].reset_index(drop = True)\n",
    "df_u1 = df_u1.fillna(0)\n",
    "df_u1.head(2)"
   ]
  },
  {
   "cell_type": "code",
   "execution_count": 9,
   "id": "b49029ad-9e6f-4bea-9265-1aab097f2ad4",
   "metadata": {},
   "outputs": [
    {
     "data": {
      "text/plain": [
       "(35, 3)"
      ]
     },
     "execution_count": 9,
     "metadata": {},
     "output_type": "execute_result"
    }
   ],
   "source": [
    "df_u1.shape"
   ]
  },
  {
   "cell_type": "code",
   "execution_count": 10,
   "id": "1886e4a9-9d7b-45e1-8d85-8872dbb91697",
   "metadata": {},
   "outputs": [],
   "source": [
    "# df_u1.sort_values(df_u1.columns.to_list())"
   ]
  },
  {
   "cell_type": "code",
   "execution_count": 11,
   "id": "bd517ee6-bac0-4e2a-9322-df511aec10fa",
   "metadata": {},
   "outputs": [
    {
     "data": {
      "text/plain": [
       "(21, 3)"
      ]
     },
     "execution_count": 11,
     "metadata": {},
     "output_type": "execute_result"
    }
   ],
   "source": [
    "df_u1.drop_duplicates().shape"
   ]
  },
  {
   "cell_type": "code",
   "execution_count": 12,
   "id": "fd2621a0-650d-4b5c-aa99-b3ee5f9113d2",
   "metadata": {},
   "outputs": [],
   "source": [
    "df_u1[\"prod_cat1\"] = df_u1[\"prod_cat1\"].astype(\"str\")\n",
    "df_u1[\"prod_cat2\"] = df_u1[\"prod_cat2\"].astype(\"int\").astype(\"str\") # .astype(\"int\") 는 굳이 안해도 됨.\n",
    "df_u1[\"prod_cat3\"] = df_u1[\"prod_cat3\"].astype(\"int\").astype(\"str\")\n",
    "df_u1[\"prod_cat\"] = df_u1[\"prod_cat1\"] + \"-\" + df_u1[\"prod_cat2\"] + \"-\" + df_u1[\"prod_cat3\"]"
   ]
  },
  {
   "cell_type": "code",
   "execution_count": 13,
   "id": "fb60957f-aff0-4ea4-8e2d-ed84e7f1bcfc",
   "metadata": {},
   "outputs": [
    {
     "data": {
      "text/plain": [
       "21"
      ]
     },
     "execution_count": 13,
     "metadata": {},
     "output_type": "execute_result"
    }
   ],
   "source": [
    "df_u1[\"prod_cat\"].nunique()"
   ]
  },
  {
   "cell_type": "code",
   "execution_count": 14,
   "id": "36979880-f1fb-460b-9e5d-1f7c8cf5f6df",
   "metadata": {},
   "outputs": [
    {
     "data": {
      "text/html": [
       "<div>\n",
       "<style scoped>\n",
       "    .dataframe tbody tr th:only-of-type {\n",
       "        vertical-align: middle;\n",
       "    }\n",
       "\n",
       "    .dataframe tbody tr th {\n",
       "        vertical-align: top;\n",
       "    }\n",
       "\n",
       "    .dataframe thead th {\n",
       "        text-align: right;\n",
       "    }\n",
       "</style>\n",
       "<table border=\"1\" class=\"dataframe\">\n",
       "  <thead>\n",
       "    <tr style=\"text-align: right;\">\n",
       "      <th></th>\n",
       "      <th>user</th>\n",
       "      <th>marital</th>\n",
       "      <th>prod_cat1</th>\n",
       "      <th>prod_cat2</th>\n",
       "      <th>prod_cat3</th>\n",
       "      <th>prod_cat</th>\n",
       "    </tr>\n",
       "  </thead>\n",
       "  <tbody>\n",
       "    <tr>\n",
       "      <th>0</th>\n",
       "      <td>3</td>\n",
       "      <td>0</td>\n",
       "      <td>1</td>\n",
       "      <td>2</td>\n",
       "      <td>0</td>\n",
       "      <td>1-2-0</td>\n",
       "    </tr>\n",
       "    <tr>\n",
       "      <th>1</th>\n",
       "      <td>5</td>\n",
       "      <td>1</td>\n",
       "      <td>8</td>\n",
       "      <td>0</td>\n",
       "      <td>0</td>\n",
       "      <td>8-0-0</td>\n",
       "    </tr>\n",
       "  </tbody>\n",
       "</table>\n",
       "</div>"
      ],
      "text/plain": [
       "   user  marital prod_cat1 prod_cat2 prod_cat3 prod_cat\n",
       "0     3        0         1         2         0    1-2-0\n",
       "1     5        1         8         0         0    8-0-0"
      ]
     },
     "execution_count": 14,
     "metadata": {},
     "output_type": "execute_result"
    }
   ],
   "source": [
    "df_q2 = df.loc[df[\"age_group\"] == \"26-35\", [\"user\", \"marital\", \"prod_cat1\", \"prod_cat2\", \"prod_cat3\"]]\n",
    "df_q2 = df_q2.reset_index(drop = True)\n",
    "df_q2 = df_q2.fillna(0)\n",
    "df_q2[\"prod_cat1\"] = df_q2[\"prod_cat1\"].astype(\"str\")\n",
    "df_q2[\"prod_cat2\"] = df_q2[\"prod_cat2\"].astype(\"int\").astype(\"str\") # .astype(\"int\") 는 굳이 안해도 됨.\n",
    "df_q2[\"prod_cat3\"] = df_q2[\"prod_cat3\"].astype(\"int\").astype(\"str\")\n",
    "df_q2[\"prod_cat\" ] = df_q2[\"prod_cat1\"] + \"-\" + df_q2[\"prod_cat2\"] + \"-\" + df_q2[\"prod_cat3\"]\n",
    "df_q2.head(2)"
   ]
  },
  {
   "cell_type": "code",
   "execution_count": 15,
   "id": "7f03dd3b-6eba-41ea-998d-ef3fc74aefc5",
   "metadata": {},
   "outputs": [
    {
     "data": {
      "text/html": [
       "<div>\n",
       "<style scoped>\n",
       "    .dataframe tbody tr th:only-of-type {\n",
       "        vertical-align: middle;\n",
       "    }\n",
       "\n",
       "    .dataframe tbody tr th {\n",
       "        vertical-align: top;\n",
       "    }\n",
       "\n",
       "    .dataframe thead th {\n",
       "        text-align: right;\n",
       "    }\n",
       "</style>\n",
       "<table border=\"1\" class=\"dataframe\">\n",
       "  <thead>\n",
       "    <tr style=\"text-align: right;\">\n",
       "      <th></th>\n",
       "      <th>user</th>\n",
       "      <th>marital</th>\n",
       "      <th>prod_cat</th>\n",
       "    </tr>\n",
       "  </thead>\n",
       "  <tbody>\n",
       "    <tr>\n",
       "      <th>0</th>\n",
       "      <td>3</td>\n",
       "      <td>0</td>\n",
       "      <td>18</td>\n",
       "    </tr>\n",
       "    <tr>\n",
       "      <th>1</th>\n",
       "      <td>5</td>\n",
       "      <td>1</td>\n",
       "      <td>43</td>\n",
       "    </tr>\n",
       "    <tr>\n",
       "      <th>2</th>\n",
       "      <td>8</td>\n",
       "      <td>1</td>\n",
       "      <td>32</td>\n",
       "    </tr>\n",
       "    <tr>\n",
       "      <th>3</th>\n",
       "      <td>9</td>\n",
       "      <td>0</td>\n",
       "      <td>31</td>\n",
       "    </tr>\n",
       "    <tr>\n",
       "      <th>4</th>\n",
       "      <td>11</td>\n",
       "      <td>0</td>\n",
       "      <td>34</td>\n",
       "    </tr>\n",
       "  </tbody>\n",
       "</table>\n",
       "</div>"
      ],
      "text/plain": [
       "   user  marital  prod_cat\n",
       "0     3        0        18\n",
       "1     5        1        43\n",
       "2     8        1        32\n",
       "3     9        0        31\n",
       "4    11        0        34"
      ]
     },
     "execution_count": 15,
     "metadata": {},
     "output_type": "execute_result"
    }
   ],
   "source": [
    "df_g = df_q2.groupby([\"user\", \"marital\"])[\"prod_cat\"].nunique().reset_index()\n",
    "df_g.head()"
   ]
  },
  {
   "cell_type": "code",
   "execution_count": 16,
   "id": "7665443a-ce66-4914-a832-1260d9c26780",
   "metadata": {},
   "outputs": [
    {
     "data": {
      "text/plain": [
       "(41.66318327974277, 41.79233621755253)"
      ]
     },
     "execution_count": 16,
     "metadata": {},
     "output_type": "execute_result"
    }
   ],
   "source": [
    "stat_m0 = df_g.loc[df_g[\"marital\"] == 0, \"prod_cat\"].mean()\n",
    "stat_m1 = df_g.loc[df_g[\"marital\"] == 1, \"prod_cat\"].mean()\n",
    "stat_m0, stat_m1"
   ]
  },
  {
   "cell_type": "code",
   "execution_count": 17,
   "id": "d509067e-6b1d-4e33-94f8-5251e9121892",
   "metadata": {},
   "outputs": [
    {
     "data": {
      "text/plain": [
       "0.13"
      ]
     },
     "execution_count": 17,
     "metadata": {},
     "output_type": "execute_result"
    }
   ],
   "source": [
    "round(abs(stat_m0 - stat_m1), 2)"
   ]
  },
  {
   "cell_type": "markdown",
   "id": "b90d3494-d0c1-4010-a88c-6cd99fddc8ca",
   "metadata": {},
   "source": [
    "### Q3."
   ]
  },
  {
   "cell_type": "code",
   "execution_count": 18,
   "id": "5d793e17-c004-4899-b910-31908e430711",
   "metadata": {},
   "outputs": [
    {
     "data": {
      "text/plain": [
       "5891"
      ]
     },
     "execution_count": 18,
     "metadata": {},
     "output_type": "execute_result"
    }
   ],
   "source": [
    "df[\"user\"].nunique()"
   ]
  },
  {
   "cell_type": "code",
   "execution_count": 19,
   "id": "53336fe9-83ce-4ed6-9cf1-dab9c559314d",
   "metadata": {},
   "outputs": [
    {
     "data": {
      "text/html": [
       "<div>\n",
       "<style scoped>\n",
       "    .dataframe tbody tr th:only-of-type {\n",
       "        vertical-align: middle;\n",
       "    }\n",
       "\n",
       "    .dataframe tbody tr th {\n",
       "        vertical-align: top;\n",
       "    }\n",
       "\n",
       "    .dataframe thead th {\n",
       "        text-align: right;\n",
       "    }\n",
       "</style>\n",
       "<table border=\"1\" class=\"dataframe\">\n",
       "  <thead>\n",
       "    <tr style=\"text-align: right;\">\n",
       "      <th></th>\n",
       "      <th>user</th>\n",
       "      <th>gender</th>\n",
       "      <th>age_group</th>\n",
       "      <th>job</th>\n",
       "      <th>city</th>\n",
       "      <th>marital</th>\n",
       "    </tr>\n",
       "  </thead>\n",
       "  <tbody>\n",
       "    <tr>\n",
       "      <th>0</th>\n",
       "      <td>1</td>\n",
       "      <td>F</td>\n",
       "      <td>0-17</td>\n",
       "      <td>10</td>\n",
       "      <td>A</td>\n",
       "      <td>0</td>\n",
       "    </tr>\n",
       "  </tbody>\n",
       "</table>\n",
       "</div>"
      ],
      "text/plain": [
       "   user gender age_group  job city  marital\n",
       "0     1      F      0-17   10    A        0"
      ]
     },
     "execution_count": 19,
     "metadata": {},
     "output_type": "execute_result"
    }
   ],
   "source": [
    "df_user = df.iloc[:, [0, 2, 3, 4, 5, 6]].drop_duplicates()\n",
    "df_user.head(1)"
   ]
  },
  {
   "cell_type": "code",
   "execution_count": 20,
   "id": "dcd20c7e-1e65-49f3-9cb0-6f5efd27b8f9",
   "metadata": {},
   "outputs": [
    {
     "data": {
      "text/html": [
       "<div>\n",
       "<style scoped>\n",
       "    .dataframe tbody tr th:only-of-type {\n",
       "        vertical-align: middle;\n",
       "    }\n",
       "\n",
       "    .dataframe tbody tr th {\n",
       "        vertical-align: top;\n",
       "    }\n",
       "\n",
       "    .dataframe thead th {\n",
       "        text-align: right;\n",
       "    }\n",
       "</style>\n",
       "<table border=\"1\" class=\"dataframe\">\n",
       "  <thead>\n",
       "    <tr style=\"text-align: right;\">\n",
       "      <th></th>\n",
       "      <th>user</th>\n",
       "      <th>prod</th>\n",
       "      <th>purchase</th>\n",
       "    </tr>\n",
       "  </thead>\n",
       "  <tbody>\n",
       "    <tr>\n",
       "      <th>0</th>\n",
       "      <td>1</td>\n",
       "      <td>35</td>\n",
       "      <td>334093</td>\n",
       "    </tr>\n",
       "  </tbody>\n",
       "</table>\n",
       "</div>"
      ],
      "text/plain": [
       "   user  prod  purchase\n",
       "0     1    35    334093"
      ]
     },
     "execution_count": 20,
     "metadata": {},
     "output_type": "execute_result"
    }
   ],
   "source": [
    "df_g = df.groupby(\"user\")[[\"prod\", \"purchase\"]].agg({\"prod\": \"nunique\",\n",
    "                                                     \"purchase\": \"sum\"}).reset_index()\n",
    "df_g.head(1)"
   ]
  },
  {
   "cell_type": "code",
   "execution_count": 21,
   "id": "695c3889-7790-4e1a-915b-911b2ae9f638",
   "metadata": {},
   "outputs": [
    {
     "data": {
      "text/html": [
       "<div>\n",
       "<style scoped>\n",
       "    .dataframe tbody tr th:only-of-type {\n",
       "        vertical-align: middle;\n",
       "    }\n",
       "\n",
       "    .dataframe tbody tr th {\n",
       "        vertical-align: top;\n",
       "    }\n",
       "\n",
       "    .dataframe thead th {\n",
       "        text-align: right;\n",
       "    }\n",
       "</style>\n",
       "<table border=\"1\" class=\"dataframe\">\n",
       "  <thead>\n",
       "    <tr style=\"text-align: right;\">\n",
       "      <th></th>\n",
       "      <th>user</th>\n",
       "      <th>gender</th>\n",
       "      <th>age_group</th>\n",
       "      <th>job</th>\n",
       "      <th>city</th>\n",
       "      <th>marital</th>\n",
       "      <th>prod</th>\n",
       "      <th>purchase</th>\n",
       "    </tr>\n",
       "  </thead>\n",
       "  <tbody>\n",
       "    <tr>\n",
       "      <th>0</th>\n",
       "      <td>1</td>\n",
       "      <td>F</td>\n",
       "      <td>0-17</td>\n",
       "      <td>10</td>\n",
       "      <td>A</td>\n",
       "      <td>0</td>\n",
       "      <td>35</td>\n",
       "      <td>334093</td>\n",
       "    </tr>\n",
       "    <tr>\n",
       "      <th>1</th>\n",
       "      <td>2</td>\n",
       "      <td>M</td>\n",
       "      <td>55+</td>\n",
       "      <td>16</td>\n",
       "      <td>C</td>\n",
       "      <td>0</td>\n",
       "      <td>77</td>\n",
       "      <td>810472</td>\n",
       "    </tr>\n",
       "  </tbody>\n",
       "</table>\n",
       "</div>"
      ],
      "text/plain": [
       "   user gender age_group  job city  marital  prod  purchase\n",
       "0     1      F      0-17   10    A        0    35    334093\n",
       "1     2      M       55+   16    C        0    77    810472"
      ]
     },
     "execution_count": 21,
     "metadata": {},
     "output_type": "execute_result"
    }
   ],
   "source": [
    "df_join = pd.merge(df_user, df_g, on = \"user\", how = \"inner\")\n",
    "df_join.head(2)"
   ]
  },
  {
   "cell_type": "code",
   "execution_count": 22,
   "id": "5ba2e670-c6f0-4b30-8bf6-002cf5528ae6",
   "metadata": {},
   "outputs": [
    {
     "data": {
      "text/html": [
       "<div>\n",
       "<style scoped>\n",
       "    .dataframe tbody tr th:only-of-type {\n",
       "        vertical-align: middle;\n",
       "    }\n",
       "\n",
       "    .dataframe tbody tr th {\n",
       "        vertical-align: top;\n",
       "    }\n",
       "\n",
       "    .dataframe thead th {\n",
       "        text-align: right;\n",
       "    }\n",
       "</style>\n",
       "<table border=\"1\" class=\"dataframe\">\n",
       "  <thead>\n",
       "    <tr style=\"text-align: right;\">\n",
       "      <th></th>\n",
       "      <th>user</th>\n",
       "      <th>gender</th>\n",
       "      <th>age_group</th>\n",
       "      <th>job</th>\n",
       "      <th>city</th>\n",
       "      <th>marital</th>\n",
       "      <th>prod</th>\n",
       "      <th>purchase</th>\n",
       "    </tr>\n",
       "  </thead>\n",
       "  <tbody>\n",
       "    <tr>\n",
       "      <th>0</th>\n",
       "      <td>1</td>\n",
       "      <td>F</td>\n",
       "      <td>0-17</td>\n",
       "      <td>10</td>\n",
       "      <td>A</td>\n",
       "      <td>0</td>\n",
       "      <td>35</td>\n",
       "      <td>334093</td>\n",
       "    </tr>\n",
       "    <tr>\n",
       "      <th>1</th>\n",
       "      <td>2</td>\n",
       "      <td>M</td>\n",
       "      <td>55+</td>\n",
       "      <td>16</td>\n",
       "      <td>C</td>\n",
       "      <td>0</td>\n",
       "      <td>77</td>\n",
       "      <td>810472</td>\n",
       "    </tr>\n",
       "  </tbody>\n",
       "</table>\n",
       "</div>"
      ],
      "text/plain": [
       "   user gender age_group  job city  marital  prod  purchase\n",
       "0     1      F      0-17   10    A        0    35    334093\n",
       "1     2      M       55+   16    C        0    77    810472"
      ]
     },
     "execution_count": 22,
     "metadata": {},
     "output_type": "execute_result"
    }
   ],
   "source": [
    "ls_col_g = [\"user\", \"gender\",\t\"age_group\", \"job\", \"city\", \"marital\"]\n",
    "df_join = df.groupby(ls_col_g)[[\"prod\", \"purchase\"]].agg({\"prod\": \"nunique\",\n",
    "                                                          \"purchase\": \"sum\"}).reset_index()\n",
    "df_join.head(2)"
   ]
  },
  {
   "cell_type": "code",
   "execution_count": 23,
   "id": "fced01be-af6e-48b4-bdae-8ca27781c6c1",
   "metadata": {},
   "outputs": [],
   "source": [
    "df_join[\"gender\"] = df_join[\"gender\"].replace({\"M\": 1, \"F\": 0})"
   ]
  },
  {
   "cell_type": "code",
   "execution_count": 24,
   "id": "e3fc6173-78fd-4d5d-96da-e817f40722cd",
   "metadata": {},
   "outputs": [
    {
     "data": {
      "text/plain": [
       "0-17     0\n",
       "18-25    1\n",
       "26-35    2\n",
       "36-45    3\n",
       "46-50    4\n",
       "51-55    5\n",
       "55+      6\n",
       "dtype: int64"
      ]
     },
     "execution_count": 24,
     "metadata": {},
     "output_type": "execute_result"
    }
   ],
   "source": [
    "ser_repl = pd.Series(range(7), index = df_join[\"age_group\"].sort_values().unique())\n",
    "ser_repl"
   ]
  },
  {
   "cell_type": "code",
   "execution_count": 25,
   "id": "c9560941-08b9-4019-ab11-37e94c39d6fe",
   "metadata": {},
   "outputs": [],
   "source": [
    "df_join[\"age_group\"] = df_join[\"age_group\"].replace(ser_repl)"
   ]
  },
  {
   "cell_type": "code",
   "execution_count": 26,
   "id": "2ed66117-aedd-4769-a2f2-0f71559dd701",
   "metadata": {},
   "outputs": [
    {
     "data": {
      "text/html": [
       "<div>\n",
       "<style scoped>\n",
       "    .dataframe tbody tr th:only-of-type {\n",
       "        vertical-align: middle;\n",
       "    }\n",
       "\n",
       "    .dataframe tbody tr th {\n",
       "        vertical-align: top;\n",
       "    }\n",
       "\n",
       "    .dataframe thead th {\n",
       "        text-align: right;\n",
       "    }\n",
       "</style>\n",
       "<table border=\"1\" class=\"dataframe\">\n",
       "  <thead>\n",
       "    <tr style=\"text-align: right;\">\n",
       "      <th></th>\n",
       "      <th>user</th>\n",
       "      <th>gender</th>\n",
       "      <th>age_group</th>\n",
       "      <th>job</th>\n",
       "      <th>city</th>\n",
       "      <th>marital</th>\n",
       "      <th>prod</th>\n",
       "      <th>purchase</th>\n",
       "    </tr>\n",
       "  </thead>\n",
       "  <tbody>\n",
       "    <tr>\n",
       "      <th>0</th>\n",
       "      <td>1</td>\n",
       "      <td>0</td>\n",
       "      <td>0</td>\n",
       "      <td>10</td>\n",
       "      <td>A</td>\n",
       "      <td>0</td>\n",
       "      <td>35</td>\n",
       "      <td>334093</td>\n",
       "    </tr>\n",
       "    <tr>\n",
       "      <th>1</th>\n",
       "      <td>2</td>\n",
       "      <td>1</td>\n",
       "      <td>6</td>\n",
       "      <td>16</td>\n",
       "      <td>C</td>\n",
       "      <td>0</td>\n",
       "      <td>77</td>\n",
       "      <td>810472</td>\n",
       "    </tr>\n",
       "    <tr>\n",
       "      <th>2</th>\n",
       "      <td>3</td>\n",
       "      <td>1</td>\n",
       "      <td>2</td>\n",
       "      <td>15</td>\n",
       "      <td>A</td>\n",
       "      <td>0</td>\n",
       "      <td>29</td>\n",
       "      <td>341635</td>\n",
       "    </tr>\n",
       "    <tr>\n",
       "      <th>3</th>\n",
       "      <td>4</td>\n",
       "      <td>1</td>\n",
       "      <td>4</td>\n",
       "      <td>7</td>\n",
       "      <td>B</td>\n",
       "      <td>1</td>\n",
       "      <td>14</td>\n",
       "      <td>206468</td>\n",
       "    </tr>\n",
       "    <tr>\n",
       "      <th>4</th>\n",
       "      <td>5</td>\n",
       "      <td>1</td>\n",
       "      <td>2</td>\n",
       "      <td>20</td>\n",
       "      <td>A</td>\n",
       "      <td>1</td>\n",
       "      <td>106</td>\n",
       "      <td>821001</td>\n",
       "    </tr>\n",
       "  </tbody>\n",
       "</table>\n",
       "</div>"
      ],
      "text/plain": [
       "   user  gender  age_group  job city  marital  prod  purchase\n",
       "0     1       0          0   10    A        0    35    334093\n",
       "1     2       1          6   16    C        0    77    810472\n",
       "2     3       1          2   15    A        0    29    341635\n",
       "3     4       1          4    7    B        1    14    206468\n",
       "4     5       1          2   20    A        1   106    821001"
      ]
     },
     "execution_count": 26,
     "metadata": {},
     "output_type": "execute_result"
    }
   ],
   "source": [
    "df_join.head()"
   ]
  },
  {
   "cell_type": "code",
   "execution_count": 27,
   "id": "86fcc733-d62b-4a02-bd87-d1741c5df62a",
   "metadata": {},
   "outputs": [
    {
     "data": {
      "text/html": [
       "<div>\n",
       "<style scoped>\n",
       "    .dataframe tbody tr th:only-of-type {\n",
       "        vertical-align: middle;\n",
       "    }\n",
       "\n",
       "    .dataframe tbody tr th {\n",
       "        vertical-align: top;\n",
       "    }\n",
       "\n",
       "    .dataframe thead th {\n",
       "        text-align: right;\n",
       "    }\n",
       "</style>\n",
       "<table border=\"1\" class=\"dataframe\">\n",
       "  <thead>\n",
       "    <tr style=\"text-align: right;\">\n",
       "      <th></th>\n",
       "      <th>gender</th>\n",
       "      <th>age_group</th>\n",
       "      <th>marital</th>\n",
       "      <th>prod</th>\n",
       "      <th>purchase</th>\n",
       "      <th>job_0</th>\n",
       "      <th>job_1</th>\n",
       "      <th>job_2</th>\n",
       "      <th>job_3</th>\n",
       "      <th>job_4</th>\n",
       "      <th>...</th>\n",
       "      <th>job_14</th>\n",
       "      <th>job_15</th>\n",
       "      <th>job_16</th>\n",
       "      <th>job_17</th>\n",
       "      <th>job_18</th>\n",
       "      <th>job_19</th>\n",
       "      <th>job_20</th>\n",
       "      <th>city_A</th>\n",
       "      <th>city_B</th>\n",
       "      <th>city_C</th>\n",
       "    </tr>\n",
       "  </thead>\n",
       "  <tbody>\n",
       "    <tr>\n",
       "      <th>0</th>\n",
       "      <td>0</td>\n",
       "      <td>0</td>\n",
       "      <td>0</td>\n",
       "      <td>35</td>\n",
       "      <td>334093</td>\n",
       "      <td>0</td>\n",
       "      <td>0</td>\n",
       "      <td>0</td>\n",
       "      <td>0</td>\n",
       "      <td>0</td>\n",
       "      <td>...</td>\n",
       "      <td>0</td>\n",
       "      <td>0</td>\n",
       "      <td>0</td>\n",
       "      <td>0</td>\n",
       "      <td>0</td>\n",
       "      <td>0</td>\n",
       "      <td>0</td>\n",
       "      <td>1</td>\n",
       "      <td>0</td>\n",
       "      <td>0</td>\n",
       "    </tr>\n",
       "    <tr>\n",
       "      <th>1</th>\n",
       "      <td>1</td>\n",
       "      <td>6</td>\n",
       "      <td>0</td>\n",
       "      <td>77</td>\n",
       "      <td>810472</td>\n",
       "      <td>0</td>\n",
       "      <td>0</td>\n",
       "      <td>0</td>\n",
       "      <td>0</td>\n",
       "      <td>0</td>\n",
       "      <td>...</td>\n",
       "      <td>0</td>\n",
       "      <td>0</td>\n",
       "      <td>1</td>\n",
       "      <td>0</td>\n",
       "      <td>0</td>\n",
       "      <td>0</td>\n",
       "      <td>0</td>\n",
       "      <td>0</td>\n",
       "      <td>0</td>\n",
       "      <td>1</td>\n",
       "    </tr>\n",
       "  </tbody>\n",
       "</table>\n",
       "<p>2 rows × 29 columns</p>\n",
       "</div>"
      ],
      "text/plain": [
       "   gender  age_group  marital  prod  purchase  job_0  job_1  job_2  job_3  \\\n",
       "0       0          0        0    35    334093      0      0      0      0   \n",
       "1       1          6        0    77    810472      0      0      0      0   \n",
       "\n",
       "   job_4  ...  job_14  job_15  job_16  job_17  job_18  job_19  job_20  city_A  \\\n",
       "0      0  ...       0       0       0       0       0       0       0       1   \n",
       "1      0  ...       0       0       1       0       0       0       0       0   \n",
       "\n",
       "   city_B  city_C  \n",
       "0       0       0  \n",
       "1       0       1  \n",
       "\n",
       "[2 rows x 29 columns]"
      ]
     },
     "execution_count": 27,
     "metadata": {},
     "output_type": "execute_result"
    }
   ],
   "source": [
    "# df_join_dum = pd.get_dummies(df_join, columns = [\"job\", \"city\"]) # 시험버전\n",
    "df_join_dum = pd.get_dummies(df_join, columns = [\"job\", \"city\"], dtype = \"int\")\n",
    "df_join_dum = df_join_dum.drop(columns = \"user\")\n",
    "df_join_dum.head(2)"
   ]
  },
  {
   "cell_type": "code",
   "execution_count": 30,
   "id": "66889ff4-a63f-4d11-92be-644cfc71b059",
   "metadata": {},
   "outputs": [
    {
     "data": {
      "text/plain": [
       "array([[0.        , 0.        , 0.        , 0.02843137, 0.02739807,\n",
       "        0.        , 0.        , 0.        , 0.        , 0.        ,\n",
       "        0.        , 0.        , 0.        , 0.        , 0.        ,\n",
       "        1.        , 0.        , 0.        , 0.        , 0.        ,\n",
       "        0.        , 0.        , 0.        , 0.        , 0.        ,\n",
       "        0.        , 1.        , 0.        , 0.        ]])"
      ]
     },
     "execution_count": 30,
     "metadata": {},
     "output_type": "execute_result"
    }
   ],
   "source": [
    "arr_join_nor = MinMaxScaler().fit_transform(df_join_dum)\n",
    "arr_join_nor[:1, ]"
   ]
  },
  {
   "cell_type": "code",
   "execution_count": 78,
   "id": "7ae06a84-7ae9-4810-a708-6f719fed9965",
   "metadata": {},
   "outputs": [
    {
     "data": {
      "text/plain": [
       "0.18"
      ]
     },
     "execution_count": 78,
     "metadata": {},
     "output_type": "execute_result"
    }
   ],
   "source": [
    "model_kmeans = KMeans(n_clusters = 7, random_state = 123)\n",
    "model_kmeans.fit(arr_join_nor)\n",
    "round(silhouette_score(arr_join_nor, labels = model_kmeans.labels_), 2)"
   ]
  },
  {
   "cell_type": "code",
   "execution_count": 81,
   "id": "f2fb5258-ed4f-4ee6-8495-97ab32f49025",
   "metadata": {},
   "outputs": [
    {
     "data": {
      "text/plain": [
       "1    1204\n",
       "0    1187\n",
       "2    1133\n",
       "5    1045\n",
       "3     503\n",
       "4     433\n",
       "6     386\n",
       "Name: count, dtype: int64"
      ]
     },
     "execution_count": 81,
     "metadata": {},
     "output_type": "execute_result"
    }
   ],
   "source": [
    "ser_c = pd.Series(model_kmeans.labels_)\n",
    "ser_c.value_counts() # 각 군집별 크기"
   ]
  },
  {
   "cell_type": "code",
   "execution_count": 89,
   "id": "49127402-d992-4b3e-a499-a4a3ee43b9b6",
   "metadata": {},
   "outputs": [
    {
     "data": {
      "text/html": [
       "<div>\n",
       "<style scoped>\n",
       "    .dataframe tbody tr th:only-of-type {\n",
       "        vertical-align: middle;\n",
       "    }\n",
       "\n",
       "    .dataframe tbody tr th {\n",
       "        vertical-align: top;\n",
       "    }\n",
       "\n",
       "    .dataframe thead th {\n",
       "        text-align: right;\n",
       "    }\n",
       "</style>\n",
       "<table border=\"1\" class=\"dataframe\">\n",
       "  <thead>\n",
       "    <tr style=\"text-align: right;\">\n",
       "      <th></th>\n",
       "      <th>gender</th>\n",
       "      <th>age_group</th>\n",
       "      <th>marital</th>\n",
       "      <th>prod</th>\n",
       "      <th>purchase</th>\n",
       "      <th>job_0</th>\n",
       "      <th>job_1</th>\n",
       "      <th>job_2</th>\n",
       "      <th>job_3</th>\n",
       "      <th>job_4</th>\n",
       "      <th>...</th>\n",
       "      <th>job_14</th>\n",
       "      <th>job_15</th>\n",
       "      <th>job_16</th>\n",
       "      <th>job_17</th>\n",
       "      <th>job_18</th>\n",
       "      <th>job_19</th>\n",
       "      <th>job_20</th>\n",
       "      <th>city_A</th>\n",
       "      <th>city_B</th>\n",
       "      <th>city_C</th>\n",
       "    </tr>\n",
       "  </thead>\n",
       "  <tbody>\n",
       "    <tr>\n",
       "      <th>0</th>\n",
       "      <td>6.933446e-01</td>\n",
       "      <td>0.560095</td>\n",
       "      <td>1.000000e+00</td>\n",
       "      <td>0.048312</td>\n",
       "      <td>0.046656</td>\n",
       "      <td>1.280539e-01</td>\n",
       "      <td>1.162595e-01</td>\n",
       "      <td>4.128054e-02</td>\n",
       "      <td>4.043808e-02</td>\n",
       "      <td>0.070767</td>\n",
       "      <td>...</td>\n",
       "      <td>0.072452</td>\n",
       "      <td>2.948610e-02</td>\n",
       "      <td>6.655434e-02</td>\n",
       "      <td>1.002527e-01</td>\n",
       "      <td>1.937658e-02</td>\n",
       "      <td>6.739680e-03</td>\n",
       "      <td>4.212300e-02</td>\n",
       "      <td>3.330669e-16</td>\n",
       "      <td>-5.551115e-17</td>\n",
       "      <td>1.000000e+00</td>\n",
       "    </tr>\n",
       "    <tr>\n",
       "      <th>1</th>\n",
       "      <td>1.000000e+00</td>\n",
       "      <td>0.413760</td>\n",
       "      <td>4.053156e-01</td>\n",
       "      <td>0.135295</td>\n",
       "      <td>0.123965</td>\n",
       "      <td>1.129568e-01</td>\n",
       "      <td>6.810631e-02</td>\n",
       "      <td>4.401993e-02</td>\n",
       "      <td>1.744186e-02</td>\n",
       "      <td>0.127907</td>\n",
       "      <td>...</td>\n",
       "      <td>0.048173</td>\n",
       "      <td>2.990033e-02</td>\n",
       "      <td>4.069767e-02</td>\n",
       "      <td>1.013289e-01</td>\n",
       "      <td>9.966777e-03</td>\n",
       "      <td>9.966777e-03</td>\n",
       "      <td>6.146179e-02</td>\n",
       "      <td>3.330669e-16</td>\n",
       "      <td>1.000000e+00</td>\n",
       "      <td>-3.330669e-16</td>\n",
       "    </tr>\n",
       "    <tr>\n",
       "      <th>2</th>\n",
       "      <td>1.000000e+00</td>\n",
       "      <td>0.364225</td>\n",
       "      <td>-5.551115e-16</td>\n",
       "      <td>0.050233</td>\n",
       "      <td>0.049510</td>\n",
       "      <td>1.350397e-01</td>\n",
       "      <td>7.060900e-02</td>\n",
       "      <td>3.971756e-02</td>\n",
       "      <td>1.853486e-02</td>\n",
       "      <td>0.150927</td>\n",
       "      <td>...</td>\n",
       "      <td>0.045013</td>\n",
       "      <td>2.471315e-02</td>\n",
       "      <td>4.413063e-02</td>\n",
       "      <td>1.385702e-01</td>\n",
       "      <td>2.118270e-02</td>\n",
       "      <td>2.294793e-02</td>\n",
       "      <td>3.795234e-02</td>\n",
       "      <td>3.053113e-16</td>\n",
       "      <td>-1.665335e-16</td>\n",
       "      <td>1.000000e+00</td>\n",
       "    </tr>\n",
       "    <tr>\n",
       "      <th>3</th>\n",
       "      <td>3.330669e-16</td>\n",
       "      <td>0.416832</td>\n",
       "      <td>4.274354e-01</td>\n",
       "      <td>0.106767</td>\n",
       "      <td>0.089099</td>\n",
       "      <td>1.332008e-01</td>\n",
       "      <td>1.153082e-01</td>\n",
       "      <td>5.367793e-02</td>\n",
       "      <td>5.168986e-02</td>\n",
       "      <td>0.163022</td>\n",
       "      <td>...</td>\n",
       "      <td>0.049702</td>\n",
       "      <td>1.391650e-02</td>\n",
       "      <td>2.385686e-02</td>\n",
       "      <td>2.783300e-02</td>\n",
       "      <td>1.040834e-17</td>\n",
       "      <td>1.192843e-02</td>\n",
       "      <td>6.361829e-02</td>\n",
       "      <td>-2.775558e-17</td>\n",
       "      <td>1.000000e+00</td>\n",
       "      <td>-2.220446e-16</td>\n",
       "    </tr>\n",
       "    <tr>\n",
       "      <th>4</th>\n",
       "      <td>2.220446e-16</td>\n",
       "      <td>0.379523</td>\n",
       "      <td>5.551115e-17</td>\n",
       "      <td>0.041165</td>\n",
       "      <td>0.036954</td>\n",
       "      <td>1.177829e-01</td>\n",
       "      <td>1.501155e-01</td>\n",
       "      <td>3.233256e-02</td>\n",
       "      <td>4.618938e-02</td>\n",
       "      <td>0.177829</td>\n",
       "      <td>...</td>\n",
       "      <td>0.048499</td>\n",
       "      <td>2.078522e-02</td>\n",
       "      <td>2.309469e-02</td>\n",
       "      <td>3.926097e-02</td>\n",
       "      <td>2.309469e-03</td>\n",
       "      <td>1.154734e-02</td>\n",
       "      <td>3.464203e-02</td>\n",
       "      <td>-2.775558e-17</td>\n",
       "      <td>-1.110223e-16</td>\n",
       "      <td>1.000000e+00</td>\n",
       "    </tr>\n",
       "    <tr>\n",
       "      <th>5</th>\n",
       "      <td>7.177033e-01</td>\n",
       "      <td>0.399522</td>\n",
       "      <td>3.760766e-01</td>\n",
       "      <td>0.132705</td>\n",
       "      <td>0.115641</td>\n",
       "      <td>1.234450e-01</td>\n",
       "      <td>8.995215e-02</td>\n",
       "      <td>6.507177e-02</td>\n",
       "      <td>3.253589e-02</td>\n",
       "      <td>0.164593</td>\n",
       "      <td>...</td>\n",
       "      <td>0.050718</td>\n",
       "      <td>2.392344e-02</td>\n",
       "      <td>3.349282e-02</td>\n",
       "      <td>5.933014e-02</td>\n",
       "      <td>6.698565e-03</td>\n",
       "      <td>1.339713e-02</td>\n",
       "      <td>5.645933e-02</td>\n",
       "      <td>1.000000e+00</td>\n",
       "      <td>-1.665335e-16</td>\n",
       "      <td>-1.110223e-16</td>\n",
       "    </tr>\n",
       "    <tr>\n",
       "      <th>6</th>\n",
       "      <td>8.160622e-01</td>\n",
       "      <td>0.532815</td>\n",
       "      <td>4.948187e-01</td>\n",
       "      <td>0.044740</td>\n",
       "      <td>0.044455</td>\n",
       "      <td>1.387779e-17</td>\n",
       "      <td>-2.775558e-17</td>\n",
       "      <td>6.938894e-18</td>\n",
       "      <td>1.040834e-17</td>\n",
       "      <td>0.000000</td>\n",
       "      <td>...</td>\n",
       "      <td>0.000000</td>\n",
       "      <td>-1.387779e-17</td>\n",
       "      <td>1.387779e-17</td>\n",
       "      <td>-2.775558e-17</td>\n",
       "      <td>5.204170e-18</td>\n",
       "      <td>-1.734723e-18</td>\n",
       "      <td>6.938894e-18</td>\n",
       "      <td>-2.775558e-17</td>\n",
       "      <td>-5.551115e-17</td>\n",
       "      <td>1.000000e+00</td>\n",
       "    </tr>\n",
       "  </tbody>\n",
       "</table>\n",
       "<p>7 rows × 29 columns</p>\n",
       "</div>"
      ],
      "text/plain": [
       "         gender  age_group       marital      prod  purchase         job_0  \\\n",
       "0  6.933446e-01   0.560095  1.000000e+00  0.048312  0.046656  1.280539e-01   \n",
       "1  1.000000e+00   0.413760  4.053156e-01  0.135295  0.123965  1.129568e-01   \n",
       "2  1.000000e+00   0.364225 -5.551115e-16  0.050233  0.049510  1.350397e-01   \n",
       "3  3.330669e-16   0.416832  4.274354e-01  0.106767  0.089099  1.332008e-01   \n",
       "4  2.220446e-16   0.379523  5.551115e-17  0.041165  0.036954  1.177829e-01   \n",
       "5  7.177033e-01   0.399522  3.760766e-01  0.132705  0.115641  1.234450e-01   \n",
       "6  8.160622e-01   0.532815  4.948187e-01  0.044740  0.044455  1.387779e-17   \n",
       "\n",
       "          job_1         job_2         job_3     job_4  ...    job_14  \\\n",
       "0  1.162595e-01  4.128054e-02  4.043808e-02  0.070767  ...  0.072452   \n",
       "1  6.810631e-02  4.401993e-02  1.744186e-02  0.127907  ...  0.048173   \n",
       "2  7.060900e-02  3.971756e-02  1.853486e-02  0.150927  ...  0.045013   \n",
       "3  1.153082e-01  5.367793e-02  5.168986e-02  0.163022  ...  0.049702   \n",
       "4  1.501155e-01  3.233256e-02  4.618938e-02  0.177829  ...  0.048499   \n",
       "5  8.995215e-02  6.507177e-02  3.253589e-02  0.164593  ...  0.050718   \n",
       "6 -2.775558e-17  6.938894e-18  1.040834e-17  0.000000  ...  0.000000   \n",
       "\n",
       "         job_15        job_16        job_17        job_18        job_19  \\\n",
       "0  2.948610e-02  6.655434e-02  1.002527e-01  1.937658e-02  6.739680e-03   \n",
       "1  2.990033e-02  4.069767e-02  1.013289e-01  9.966777e-03  9.966777e-03   \n",
       "2  2.471315e-02  4.413063e-02  1.385702e-01  2.118270e-02  2.294793e-02   \n",
       "3  1.391650e-02  2.385686e-02  2.783300e-02  1.040834e-17  1.192843e-02   \n",
       "4  2.078522e-02  2.309469e-02  3.926097e-02  2.309469e-03  1.154734e-02   \n",
       "5  2.392344e-02  3.349282e-02  5.933014e-02  6.698565e-03  1.339713e-02   \n",
       "6 -1.387779e-17  1.387779e-17 -2.775558e-17  5.204170e-18 -1.734723e-18   \n",
       "\n",
       "         job_20        city_A        city_B        city_C  \n",
       "0  4.212300e-02  3.330669e-16 -5.551115e-17  1.000000e+00  \n",
       "1  6.146179e-02  3.330669e-16  1.000000e+00 -3.330669e-16  \n",
       "2  3.795234e-02  3.053113e-16 -1.665335e-16  1.000000e+00  \n",
       "3  6.361829e-02 -2.775558e-17  1.000000e+00 -2.220446e-16  \n",
       "4  3.464203e-02 -2.775558e-17 -1.110223e-16  1.000000e+00  \n",
       "5  5.645933e-02  1.000000e+00 -1.665335e-16 -1.110223e-16  \n",
       "6  6.938894e-18 -2.775558e-17 -5.551115e-17  1.000000e+00  \n",
       "\n",
       "[7 rows x 29 columns]"
      ]
     },
     "execution_count": 89,
     "metadata": {},
     "output_type": "execute_result"
    }
   ],
   "source": [
    "df_cl = pd.DataFrame(model_kmeans.cluster_centers_, \n",
    "                     columns = df_join_dum.columns)\n",
    "df_cl"
   ]
  }
 ],
 "metadata": {
  "kernelspec": {
   "display_name": "Python 3 (ipykernel)",
   "language": "python",
   "name": "python3"
  },
  "language_info": {
   "codemirror_mode": {
    "name": "ipython",
    "version": 3
   },
   "file_extension": ".py",
   "mimetype": "text/x-python",
   "name": "python",
   "nbconvert_exporter": "python",
   "pygments_lexer": "ipython3",
   "version": "3.11.4"
  }
 },
 "nbformat": 4,
 "nbformat_minor": 5
}
