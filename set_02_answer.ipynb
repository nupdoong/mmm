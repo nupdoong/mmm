{
 "cells": [
  {
   "cell_type": "code",
   "execution_count": 1,
   "id": "8bd68eaf-5fbe-483c-91e8-1a45517cab1b",
   "metadata": {},
   "outputs": [],
   "source": [
    "import pandas as pd\n",
    "import numpy as np\n",
    "\n",
    "from sklearn.preprocessing import MinMaxScaler\n",
    "from sklearn.model_selection import train_test_split\n",
    "from sklearn.linear_model import LogisticRegression\n",
    "from sklearn.metrics import f1_score"
   ]
  },
  {
   "cell_type": "code",
   "execution_count": null,
   "id": "826a4ce6-cfe2-422c-8cf6-183e5a640f4c",
   "metadata": {},
   "outputs": [],
   "source": [
    "df = pd.read_csv(\"galaxy_users.csv\")\n",
    "df.head(2)"
   ]
  },
  {
   "cell_type": "markdown",
   "id": "9401616d-396c-43e9-b50d-80302bceb36c",
   "metadata": {},
   "source": [
    "### Q1."
   ]
  },
  {
   "cell_type": "code",
   "execution_count": null,
   "id": "7282b947-4619-43bc-9914-9510b9ec308c",
   "metadata": {},
   "outputs": [],
   "source": [
    "df_q1 = df.loc[:, \"OnlineSecurity\":\"StreamingMovies\"].copy()\n",
    "df_q1 = df_q1.replace({\"Yes\": 1, \"No\": 0})\n",
    "df_q1.head(2)"
   ]
  },
  {
   "cell_type": "code",
   "execution_count": 10,
   "id": "a6b3fcb8-4381-472b-aeb6-468fd695aaba",
   "metadata": {},
   "outputs": [
    {
     "data": {
      "text/html": [
       "<div>\n",
       "<style scoped>\n",
       "    .dataframe tbody tr th:only-of-type {\n",
       "        vertical-align: middle;\n",
       "    }\n",
       "\n",
       "    .dataframe tbody tr th {\n",
       "        vertical-align: top;\n",
       "    }\n",
       "\n",
       "    .dataframe thead th {\n",
       "        text-align: right;\n",
       "    }\n",
       "</style>\n",
       "<table border=\"1\" class=\"dataframe\">\n",
       "  <thead>\n",
       "    <tr style=\"text-align: right;\">\n",
       "      <th></th>\n",
       "      <th>OnlineSecurity</th>\n",
       "      <th>OnlineBackup</th>\n",
       "      <th>DeviceProtection</th>\n",
       "      <th>TechSupport</th>\n",
       "      <th>StreamingTV</th>\n",
       "      <th>StreamingMovies</th>\n",
       "    </tr>\n",
       "  </thead>\n",
       "  <tbody>\n",
       "    <tr>\n",
       "      <th>0</th>\n",
       "      <td>0</td>\n",
       "      <td>1</td>\n",
       "      <td>0</td>\n",
       "      <td>0</td>\n",
       "      <td>0</td>\n",
       "      <td>0</td>\n",
       "    </tr>\n",
       "    <tr>\n",
       "      <th>1</th>\n",
       "      <td>1</td>\n",
       "      <td>0</td>\n",
       "      <td>1</td>\n",
       "      <td>1</td>\n",
       "      <td>1</td>\n",
       "      <td>1</td>\n",
       "    </tr>\n",
       "    <tr>\n",
       "      <th>2</th>\n",
       "      <td>No internet service</td>\n",
       "      <td>No internet service</td>\n",
       "      <td>No internet service</td>\n",
       "      <td>No internet service</td>\n",
       "      <td>No internet service</td>\n",
       "      <td>No internet service</td>\n",
       "    </tr>\n",
       "  </tbody>\n",
       "</table>\n",
       "</div>"
      ],
      "text/plain": [
       "        OnlineSecurity         OnlineBackup     DeviceProtection  \\\n",
       "0                    0                    1                    0   \n",
       "1                    1                    0                    1   \n",
       "2  No internet service  No internet service  No internet service   \n",
       "\n",
       "           TechSupport          StreamingTV      StreamingMovies  \n",
       "0                    0                    0                    0  \n",
       "1                    1                    1                    1  \n",
       "2  No internet service  No internet service  No internet service  "
      ]
     },
     "execution_count": 10,
     "metadata": {},
     "output_type": "execute_result"
    }
   ],
   "source": [
    "# df_q1[\"OnlineSecurity\"].unique()\n",
    "# df_q1[\"OnlineBackup\"].unique()\n",
    "# df_q1.unique()\n",
    "# df_q1.drop_duplicates()\n",
    "df_q1.apply(lambda x: x.unique())\n",
    "# df_q1.apply(lambda x: [x.unique()]) # 시험버전의 경우 list 로 감싸주어야 함."
   ]
  },
  {
   "cell_type": "code",
   "execution_count": 11,
   "id": "9911e488-a322-4bbd-80da-834f249f375d",
   "metadata": {},
   "outputs": [],
   "source": [
    "df_q1_sub = df_q1.loc[df_q1[\"OnlineSecurity\"] != \"No internet service\", ]"
   ]
  },
  {
   "cell_type": "code",
   "execution_count": 14,
   "id": "e03bf87d-7684-498d-8b74-ffd5a4d284a3",
   "metadata": {},
   "outputs": [],
   "source": [
    "# df_q1.loc[df_q1[\"OnlineSecurity\"] == \"No internet service\", ]"
   ]
  },
  {
   "cell_type": "code",
   "execution_count": null,
   "id": "3a4c92cf-fc96-4f43-ba6a-5860c909eaa4",
   "metadata": {},
   "outputs": [],
   "source": [
    "df_q1_sub = df_q1.replace(\"No internet service\", np.nan).dropna()"
   ]
  },
  {
   "cell_type": "code",
   "execution_count": null,
   "id": "0eaf2237-1c6e-42d3-bbd8-5d69fba1bbde",
   "metadata": {},
   "outputs": [],
   "source": [
    "df_q1_sub.apply(lambda x: x.unique())"
   ]
  },
  {
   "cell_type": "code",
   "execution_count": 22,
   "id": "0be95998-dd5f-4a78-89f6-d73d256ca9f5",
   "metadata": {},
   "outputs": [
    {
     "data": {
      "text/plain": [
       "(966, 284)"
      ]
     },
     "execution_count": 22,
     "metadata": {},
     "output_type": "execute_result"
    }
   ],
   "source": [
    "ser_cnt = df_q1_sub.sum(axis = 1).value_counts()\n",
    "ser_cnt[1], ser_cnt[6]"
   ]
  },
  {
   "cell_type": "code",
   "execution_count": 24,
   "id": "0ee88289-2974-4ddf-bc2f-a787379ca1e6",
   "metadata": {},
   "outputs": [
    {
     "data": {
      "text/plain": [
       "3.4"
      ]
     },
     "execution_count": 24,
     "metadata": {},
     "output_type": "execute_result"
    }
   ],
   "source": [
    "round(ser_cnt[1] / ser_cnt[6], 1)"
   ]
  },
  {
   "cell_type": "markdown",
   "id": "6b78649c-e668-4955-9d7a-54accde7b054",
   "metadata": {},
   "source": [
    "### Q2."
   ]
  },
  {
   "cell_type": "code",
   "execution_count": 36,
   "id": "47dfecd4-b6c9-4138-93e2-9133cc13e236",
   "metadata": {},
   "outputs": [
    {
     "data": {
      "text/html": [
       "<div>\n",
       "<style scoped>\n",
       "    .dataframe tbody tr th:only-of-type {\n",
       "        vertical-align: middle;\n",
       "    }\n",
       "\n",
       "    .dataframe tbody tr th {\n",
       "        vertical-align: top;\n",
       "    }\n",
       "\n",
       "    .dataframe thead th {\n",
       "        text-align: right;\n",
       "    }\n",
       "</style>\n",
       "<table border=\"1\" class=\"dataframe\">\n",
       "  <thead>\n",
       "    <tr style=\"text-align: right;\">\n",
       "      <th></th>\n",
       "      <th>tenure</th>\n",
       "      <th>MonthlyCharges</th>\n",
       "      <th>TotalCharges</th>\n",
       "      <th>month</th>\n",
       "    </tr>\n",
       "  </thead>\n",
       "  <tbody>\n",
       "    <tr>\n",
       "      <th>0</th>\n",
       "      <td>1</td>\n",
       "      <td>29.85</td>\n",
       "      <td>29.85</td>\n",
       "      <td>1.0</td>\n",
       "    </tr>\n",
       "    <tr>\n",
       "      <th>1</th>\n",
       "      <td>34</td>\n",
       "      <td>56.95</td>\n",
       "      <td>1889.50</td>\n",
       "      <td>33.0</td>\n",
       "    </tr>\n",
       "  </tbody>\n",
       "</table>\n",
       "</div>"
      ],
      "text/plain": [
       "   tenure  MonthlyCharges  TotalCharges  month\n",
       "0       1           29.85         29.85    1.0\n",
       "1      34           56.95       1889.50   33.0"
      ]
     },
     "execution_count": 36,
     "metadata": {},
     "output_type": "execute_result"
    }
   ],
   "source": [
    "df_q2 = df[[\"tenure\", \"MonthlyCharges\", \"TotalCharges\"]].copy()\n",
    "df_q2[\"month\"] = df_q2[\"TotalCharges\"] // df_q2[\"MonthlyCharges\"]\n",
    "df_q2.head(2)"
   ]
  },
  {
   "cell_type": "code",
   "execution_count": 33,
   "id": "5a3219e5-559a-429c-9814-41d77bc88e2a",
   "metadata": {},
   "outputs": [
    {
     "data": {
      "text/html": [
       "<div>\n",
       "<style scoped>\n",
       "    .dataframe tbody tr th:only-of-type {\n",
       "        vertical-align: middle;\n",
       "    }\n",
       "\n",
       "    .dataframe tbody tr th {\n",
       "        vertical-align: top;\n",
       "    }\n",
       "\n",
       "    .dataframe thead th {\n",
       "        text-align: right;\n",
       "    }\n",
       "</style>\n",
       "<table border=\"1\" class=\"dataframe\">\n",
       "  <thead>\n",
       "    <tr style=\"text-align: right;\">\n",
       "      <th></th>\n",
       "      <th>tenure</th>\n",
       "      <th>MonthlyCharges</th>\n",
       "      <th>month</th>\n",
       "    </tr>\n",
       "  </thead>\n",
       "  <tbody>\n",
       "    <tr>\n",
       "      <th>tenure</th>\n",
       "      <td>1.000</td>\n",
       "      <td>0.247</td>\n",
       "      <td>0.999</td>\n",
       "    </tr>\n",
       "    <tr>\n",
       "      <th>MonthlyCharges</th>\n",
       "      <td>0.247</td>\n",
       "      <td>1.000</td>\n",
       "      <td>0.246</td>\n",
       "    </tr>\n",
       "    <tr>\n",
       "      <th>month</th>\n",
       "      <td>0.999</td>\n",
       "      <td>0.246</td>\n",
       "      <td>1.000</td>\n",
       "    </tr>\n",
       "  </tbody>\n",
       "</table>\n",
       "</div>"
      ],
      "text/plain": [
       "                tenure  MonthlyCharges  month\n",
       "tenure           1.000           0.247  0.999\n",
       "MonthlyCharges   0.247           1.000  0.246\n",
       "month            0.999           0.246  1.000"
      ]
     },
     "execution_count": 33,
     "metadata": {},
     "output_type": "execute_result"
    }
   ],
   "source": [
    "df_q2.iloc[:, [0, 1, 3]].corr().round(3) # 0.999, 기본 상관분석 연산이 Pearson's"
   ]
  },
  {
   "cell_type": "code",
   "execution_count": 38,
   "id": "206abb3e-3aa0-40c2-81fd-b585858af802",
   "metadata": {},
   "outputs": [],
   "source": [
    "# print(df_q2.corr.__doc__)"
   ]
  },
  {
   "cell_type": "code",
   "execution_count": 40,
   "id": "2af83963-fb04-4250-8467-e5c8239be8c5",
   "metadata": {},
   "outputs": [],
   "source": [
    "# dir(df_q2)"
   ]
  },
  {
   "cell_type": "markdown",
   "id": "8375467b-5332-442d-b781-cd91ff6f550c",
   "metadata": {},
   "source": [
    "### Q3."
   ]
  },
  {
   "cell_type": "code",
   "execution_count": 45,
   "id": "6d1d9b78-e41e-4116-bb1d-f9c097d4b30a",
   "metadata": {},
   "outputs": [
    {
     "data": {
      "text/html": [
       "<div>\n",
       "<style scoped>\n",
       "    .dataframe tbody tr th:only-of-type {\n",
       "        vertical-align: middle;\n",
       "    }\n",
       "\n",
       "    .dataframe tbody tr th {\n",
       "        vertical-align: top;\n",
       "    }\n",
       "\n",
       "    .dataframe thead th {\n",
       "        text-align: right;\n",
       "    }\n",
       "</style>\n",
       "<table border=\"1\" class=\"dataframe\">\n",
       "  <thead>\n",
       "    <tr style=\"text-align: right;\">\n",
       "      <th></th>\n",
       "      <th>Churn</th>\n",
       "      <th>SeniorCitizen</th>\n",
       "      <th>Partner</th>\n",
       "      <th>Dependents</th>\n",
       "      <th>tenure</th>\n",
       "      <th>MonthlyCharges</th>\n",
       "      <th>TotalCharges</th>\n",
       "      <th>OnlineSecurity</th>\n",
       "      <th>OnlineBackup</th>\n",
       "      <th>DeviceProtection</th>\n",
       "      <th>TechSupport</th>\n",
       "      <th>StreamingMovies</th>\n",
       "      <th>PaperlessBilling</th>\n",
       "    </tr>\n",
       "  </thead>\n",
       "  <tbody>\n",
       "    <tr>\n",
       "      <th>0</th>\n",
       "      <td>0</td>\n",
       "      <td>0</td>\n",
       "      <td>1</td>\n",
       "      <td>0</td>\n",
       "      <td>1</td>\n",
       "      <td>29.85</td>\n",
       "      <td>29.85</td>\n",
       "      <td>0</td>\n",
       "      <td>1</td>\n",
       "      <td>0</td>\n",
       "      <td>0</td>\n",
       "      <td>0</td>\n",
       "      <td>1</td>\n",
       "    </tr>\n",
       "    <tr>\n",
       "      <th>1</th>\n",
       "      <td>0</td>\n",
       "      <td>0</td>\n",
       "      <td>0</td>\n",
       "      <td>0</td>\n",
       "      <td>34</td>\n",
       "      <td>56.95</td>\n",
       "      <td>1889.50</td>\n",
       "      <td>1</td>\n",
       "      <td>0</td>\n",
       "      <td>1</td>\n",
       "      <td>0</td>\n",
       "      <td>0</td>\n",
       "      <td>0</td>\n",
       "    </tr>\n",
       "  </tbody>\n",
       "</table>\n",
       "</div>"
      ],
      "text/plain": [
       "   Churn  SeniorCitizen  Partner  Dependents  tenure  MonthlyCharges  \\\n",
       "0      0              0        1           0       1           29.85   \n",
       "1      0              0        0           0      34           56.95   \n",
       "\n",
       "   TotalCharges OnlineSecurity OnlineBackup DeviceProtection TechSupport  \\\n",
       "0         29.85              0            1                0           0   \n",
       "1       1889.50              1            0                1           0   \n",
       "\n",
       "  StreamingMovies  PaperlessBilling  \n",
       "0               0                 1  \n",
       "1               0                 0  "
      ]
     },
     "execution_count": 45,
     "metadata": {},
     "output_type": "execute_result"
    }
   ],
   "source": [
    "ls_x1 = ['SeniorCitizen', 'Partner', 'Dependents', 'tenure', 'MonthlyCharges', 'TotalCharges']\n",
    "ls_x2 = ['OnlineSecurity', 'OnlineBackup', 'DeviceProtection', 'TechSupport', 'StreamingMovies', 'PaperlessBilling']\n",
    "df_q3 = df[[\"Churn\"] + ls_x1 + ls_x2].copy()\n",
    "df_q3 = df_q3.replace({\"Yes\": 1, \"No\": 0})\n",
    "df_q3.head(2)"
   ]
  },
  {
   "cell_type": "code",
   "execution_count": null,
   "id": "06a1f8c9-2eb0-4d43-a766-73394e7a5ab8",
   "metadata": {},
   "outputs": [],
   "source": [
    "df_q3_obj = df_q3.select_dtypes(include = \"object\") # 시험버전에서는 이 메서드가 구현은 되어있으나 버그로 동작 X\n",
    "df_q3_obj = df_q3.loc[:, df_q3.dtypes == \"object\"] # 시험버전용 코드\n",
    "df_q3_obj.head(2)"
   ]
  },
  {
   "cell_type": "code",
   "execution_count": null,
   "id": "5167a0b3-5459-4899-8af3-2bfc240bf30d",
   "metadata": {},
   "outputs": [],
   "source": [
    "df_q3_obj.apply(lambda x: x.unique())"
   ]
  },
  {
   "cell_type": "code",
   "execution_count": null,
   "id": "89a7a95b-8d34-4c74-be20-fb738025c4df",
   "metadata": {},
   "outputs": [],
   "source": [
    "df_q3 = df_q3.replace(\"No internet service\", -1)"
   ]
  },
  {
   "cell_type": "code",
   "execution_count": 53,
   "id": "3b941b17-d4c7-4e2a-865b-da315289b652",
   "metadata": {},
   "outputs": [
    {
     "data": {
      "text/plain": [
       "(4922, 2110)"
      ]
     },
     "execution_count": 53,
     "metadata": {},
     "output_type": "execute_result"
    }
   ],
   "source": [
    "df_train, df_test = train_test_split(df_q3, train_size = 0.7, random_state = 123)\n",
    "len(df_train), len(df_test)"
   ]
  },
  {
   "cell_type": "markdown",
   "id": "387d89fc-b22f-4284-aa67-d4a52b9d9321",
   "metadata": {},
   "source": [
    "https://datadoctorblog.com/2023/07/23/Py-ML-Normalization/"
   ]
  },
  {
   "cell_type": "markdown",
   "id": "4d9ec902-0996-4c00-85d0-39311ed8f8fa",
   "metadata": {},
   "source": [
    "https://datadoctorblog.com/2023/08/02/Py-Preprocessing-naming-object-variables/"
   ]
  },
  {
   "cell_type": "code",
   "execution_count": 57,
   "id": "7efd852d-b9db-4485-aada-412559903e1b",
   "metadata": {},
   "outputs": [
    {
     "data": {
      "text/html": [
       "<div>\n",
       "<style scoped>\n",
       "    .dataframe tbody tr th:only-of-type {\n",
       "        vertical-align: middle;\n",
       "    }\n",
       "\n",
       "    .dataframe tbody tr th {\n",
       "        vertical-align: top;\n",
       "    }\n",
       "\n",
       "    .dataframe thead th {\n",
       "        text-align: right;\n",
       "    }\n",
       "</style>\n",
       "<table border=\"1\" class=\"dataframe\">\n",
       "  <thead>\n",
       "    <tr style=\"text-align: right;\">\n",
       "      <th></th>\n",
       "      <th>Churn</th>\n",
       "      <th>SeniorCitizen</th>\n",
       "      <th>Partner</th>\n",
       "      <th>Dependents</th>\n",
       "      <th>tenure</th>\n",
       "      <th>MonthlyCharges</th>\n",
       "      <th>TotalCharges</th>\n",
       "      <th>OnlineSecurity</th>\n",
       "      <th>OnlineBackup</th>\n",
       "      <th>DeviceProtection</th>\n",
       "      <th>TechSupport</th>\n",
       "      <th>StreamingMovies</th>\n",
       "      <th>PaperlessBilling</th>\n",
       "    </tr>\n",
       "  </thead>\n",
       "  <tbody>\n",
       "    <tr>\n",
       "      <th>463</th>\n",
       "      <td>1</td>\n",
       "      <td>0</td>\n",
       "      <td>0</td>\n",
       "      <td>0</td>\n",
       "      <td>7</td>\n",
       "      <td>99.8</td>\n",
       "      <td>673.25</td>\n",
       "      <td>0</td>\n",
       "      <td>1</td>\n",
       "      <td>0</td>\n",
       "      <td>0</td>\n",
       "      <td>1</td>\n",
       "      <td>1</td>\n",
       "    </tr>\n",
       "  </tbody>\n",
       "</table>\n",
       "</div>"
      ],
      "text/plain": [
       "     Churn  SeniorCitizen  Partner  Dependents  tenure  MonthlyCharges  \\\n",
       "463      1              0        0           0       7            99.8   \n",
       "\n",
       "     TotalCharges  OnlineSecurity  OnlineBackup  DeviceProtection  \\\n",
       "463        673.25               0             1                 0   \n",
       "\n",
       "     TechSupport  StreamingMovies  PaperlessBilling  \n",
       "463            0                1                 1  "
      ]
     },
     "execution_count": 57,
     "metadata": {},
     "output_type": "execute_result"
    }
   ],
   "source": [
    "df_train.head(1)"
   ]
  },
  {
   "cell_type": "code",
   "execution_count": 54,
   "id": "ceea291f-4618-407d-8eb2-db78107c608f",
   "metadata": {},
   "outputs": [],
   "source": [
    "model_nor = MinMaxScaler().fit(df_train)\n",
    "arr_train_nor = model_nor.transform(df_train)\n",
    "arr_test_nor  = model_nor.transform(df_test)"
   ]
  },
  {
   "cell_type": "code",
   "execution_count": null,
   "id": "55895e1b-3a17-4197-933d-6689d11f6941",
   "metadata": {},
   "outputs": [],
   "source": [
    "arr_train_nor[:1, ]"
   ]
  },
  {
   "cell_type": "code",
   "execution_count": null,
   "id": "2705452d-b00f-450e-a742-bbea47713053",
   "metadata": {},
   "outputs": [],
   "source": [
    "model_lr = LogisticRegression(random_state = 123)\n",
    "model_lr.fit(X = arr_train_nor[:, 1:],\n",
    "             y = arr_train_nor[:, 0])\n",
    "pred = model_lr.predict(arr_test_nor[:, 1:])"
   ]
  },
  {
   "cell_type": "code",
   "execution_count": 62,
   "id": "0d0623a5-0727-4307-a3b2-a9b760a0da04",
   "metadata": {},
   "outputs": [
    {
     "data": {
      "text/plain": [
       "0.55"
      ]
     },
     "execution_count": 62,
     "metadata": {},
     "output_type": "execute_result"
    }
   ],
   "source": [
    "round(f1_score(y_true = arr_test_nor[:, 0], y_pred = pred), 2)"
   ]
  },
  {
   "cell_type": "markdown",
   "id": "54e54ba0-235c-40ae-b4e3-c9776c6bbf0f",
   "metadata": {},
   "source": [
    "### Q. 특정 범주를 제외한 나머지 모든 범주를 지정한 값으로 치환하고자 하는 경우\n",
    " ※ \"color\" 변수의 원소가 \"E\" 또는 \"J\"가 아닌 나머지 모든 변수의 범주를 -1로 치환  \n",
    " ※ 고수는 .map() + 사용자 정의 함수(or lambda) 로 해결"
   ]
  },
  {
   "cell_type": "code",
   "execution_count": 63,
   "id": "db2305d3-fb5f-4e74-b6e8-2b9b5d7ecd4f",
   "metadata": {},
   "outputs": [
    {
     "data": {
      "text/html": [
       "<div>\n",
       "<style scoped>\n",
       "    .dataframe tbody tr th:only-of-type {\n",
       "        vertical-align: middle;\n",
       "    }\n",
       "\n",
       "    .dataframe tbody tr th {\n",
       "        vertical-align: top;\n",
       "    }\n",
       "\n",
       "    .dataframe thead th {\n",
       "        text-align: right;\n",
       "    }\n",
       "</style>\n",
       "<table border=\"1\" class=\"dataframe\">\n",
       "  <thead>\n",
       "    <tr style=\"text-align: right;\">\n",
       "      <th></th>\n",
       "      <th>carat</th>\n",
       "      <th>cut</th>\n",
       "      <th>color</th>\n",
       "      <th>clarity</th>\n",
       "      <th>depth</th>\n",
       "      <th>table</th>\n",
       "      <th>price</th>\n",
       "      <th>x</th>\n",
       "      <th>y</th>\n",
       "      <th>z</th>\n",
       "    </tr>\n",
       "  </thead>\n",
       "  <tbody>\n",
       "    <tr>\n",
       "      <th>0</th>\n",
       "      <td>0.23</td>\n",
       "      <td>Ideal</td>\n",
       "      <td>E</td>\n",
       "      <td>SI2</td>\n",
       "      <td>61.5</td>\n",
       "      <td>55.0</td>\n",
       "      <td>326</td>\n",
       "      <td>3.95</td>\n",
       "      <td>3.98</td>\n",
       "      <td>2.43</td>\n",
       "    </tr>\n",
       "    <tr>\n",
       "      <th>1</th>\n",
       "      <td>0.21</td>\n",
       "      <td>Premium</td>\n",
       "      <td>E</td>\n",
       "      <td>SI1</td>\n",
       "      <td>59.8</td>\n",
       "      <td>61.0</td>\n",
       "      <td>326</td>\n",
       "      <td>3.89</td>\n",
       "      <td>3.84</td>\n",
       "      <td>2.31</td>\n",
       "    </tr>\n",
       "  </tbody>\n",
       "</table>\n",
       "</div>"
      ],
      "text/plain": [
       "   carat      cut color clarity  depth  table  price     x     y     z\n",
       "0   0.23    Ideal     E     SI2   61.5   55.0    326  3.95  3.98  2.43\n",
       "1   0.21  Premium     E     SI1   59.8   61.0    326  3.89  3.84  2.31"
      ]
     },
     "execution_count": 63,
     "metadata": {},
     "output_type": "execute_result"
    }
   ],
   "source": [
    "df_dia = pd.read_csv(\"../diamonds.csv\")\n",
    "df_dia.head(2)"
   ]
  },
  {
   "cell_type": "code",
   "execution_count": 64,
   "id": "e81697ef-ab2c-4069-a8b6-46b5ecb493e3",
   "metadata": {},
   "outputs": [
    {
     "data": {
      "text/plain": [
       "array(['E', 'I', 'J', 'H', 'F', 'G', 'D'], dtype=object)"
      ]
     },
     "execution_count": 64,
     "metadata": {},
     "output_type": "execute_result"
    }
   ],
   "source": [
    "df_dia[\"color\"].unique()"
   ]
  },
  {
   "cell_type": "code",
   "execution_count": 68,
   "id": "9882b78f-b425-4f21-bd7e-b9b25e879f73",
   "metadata": {},
   "outputs": [
    {
     "data": {
      "text/plain": [
       "cut         [Ideal, Premium, Good, Very Good, Fair]\n",
       "color                         [E, I, J, H, F, G, D]\n",
       "clarity    [SI2, SI1, VS1, VS2, VVS2, VVS1, I1, IF]\n",
       "dtype: object"
      ]
     },
     "execution_count": 68,
     "metadata": {},
     "output_type": "execute_result"
    }
   ],
   "source": [
    "# df_dia.iloc[:, 1:4].apply(lambda x: [x.unique()]) # 시험버전\n",
    "df_dia.iloc[:, 1:4].apply(lambda x: x.unique())"
   ]
  },
  {
   "cell_type": "code",
   "execution_count": 69,
   "id": "5e7378ea-d0b8-47fb-857d-71ac5f07b1ee",
   "metadata": {},
   "outputs": [
    {
     "data": {
      "text/plain": [
       "cut            Ideal\n",
       "cut          Premium\n",
       "cut             Good\n",
       "cut        Very Good\n",
       "cut             Fair\n",
       "color              E\n",
       "color              I\n",
       "color              J\n",
       "color              H\n",
       "color              F\n",
       "color              G\n",
       "color              D\n",
       "clarity          SI2\n",
       "clarity          SI1\n",
       "clarity          VS1\n",
       "clarity          VS2\n",
       "clarity         VVS2\n",
       "clarity         VVS1\n",
       "clarity           I1\n",
       "clarity           IF\n",
       "dtype: object"
      ]
     },
     "execution_count": 69,
     "metadata": {},
     "output_type": "execute_result"
    }
   ],
   "source": [
    "ser_u = df_dia.iloc[:, 1:4].apply(lambda x: x.unique()).explode()\n",
    "ser_u"
   ]
  },
  {
   "cell_type": "code",
   "execution_count": 70,
   "id": "47f60476-3278-402a-92d3-1c6b6f852336",
   "metadata": {},
   "outputs": [
    {
     "data": {
      "text/plain": [
       "array([-1, -1, -1, -1, -1, 'E', -1, 'J', -1, -1, -1, -1, -1, -1, -1, -1,\n",
       "       -1, -1, -1, -1], dtype=object)"
      ]
     },
     "execution_count": 70,
     "metadata": {},
     "output_type": "execute_result"
    }
   ],
   "source": [
    "np.where(ser_u.isin([\"E\", \"J\"]), ser_u, -1)"
   ]
  },
  {
   "cell_type": "code",
   "execution_count": null,
   "id": "6d1088c4-1212-42e0-b512-5059b63c091e",
   "metadata": {},
   "outputs": [],
   "source": [
    "ser_u = df_dia.iloc[:, 1:4].apply(lambda x: x.unique()).explode()\n",
    "ser_repl = pd.Series(np.where(ser_u.isin([\"E\", \"J\"]), ser_u, -1), \n",
    "                     index = ser_u)\n",
    "ser_repl.to_dict()"
   ]
  },
  {
   "cell_type": "code",
   "execution_count": null,
   "id": "826b4450-68d5-4b8e-a13c-033524de87c1",
   "metadata": {},
   "outputs": [],
   "source": [
    "df_dia2 = df_dia.replace(ser_repl)"
   ]
  },
  {
   "cell_type": "code",
   "execution_count": 73,
   "id": "5962f02f-3739-419b-ae4a-2285b38c99e4",
   "metadata": {},
   "outputs": [
    {
     "data": {
      "text/html": [
       "<div>\n",
       "<style scoped>\n",
       "    .dataframe tbody tr th:only-of-type {\n",
       "        vertical-align: middle;\n",
       "    }\n",
       "\n",
       "    .dataframe tbody tr th {\n",
       "        vertical-align: top;\n",
       "    }\n",
       "\n",
       "    .dataframe thead th {\n",
       "        text-align: right;\n",
       "    }\n",
       "</style>\n",
       "<table border=\"1\" class=\"dataframe\">\n",
       "  <thead>\n",
       "    <tr style=\"text-align: right;\">\n",
       "      <th></th>\n",
       "      <th>carat</th>\n",
       "      <th>cut</th>\n",
       "      <th>color</th>\n",
       "      <th>clarity</th>\n",
       "      <th>depth</th>\n",
       "      <th>table</th>\n",
       "      <th>price</th>\n",
       "      <th>x</th>\n",
       "      <th>y</th>\n",
       "      <th>z</th>\n",
       "    </tr>\n",
       "  </thead>\n",
       "  <tbody>\n",
       "    <tr>\n",
       "      <th>0</th>\n",
       "      <td>0.23</td>\n",
       "      <td>-1</td>\n",
       "      <td>E</td>\n",
       "      <td>-1</td>\n",
       "      <td>61.5</td>\n",
       "      <td>55.0</td>\n",
       "      <td>326</td>\n",
       "      <td>3.95</td>\n",
       "      <td>3.98</td>\n",
       "      <td>2.43</td>\n",
       "    </tr>\n",
       "    <tr>\n",
       "      <th>1</th>\n",
       "      <td>0.21</td>\n",
       "      <td>-1</td>\n",
       "      <td>E</td>\n",
       "      <td>-1</td>\n",
       "      <td>59.8</td>\n",
       "      <td>61.0</td>\n",
       "      <td>326</td>\n",
       "      <td>3.89</td>\n",
       "      <td>3.84</td>\n",
       "      <td>2.31</td>\n",
       "    </tr>\n",
       "  </tbody>\n",
       "</table>\n",
       "</div>"
      ],
      "text/plain": [
       "   carat  cut color  clarity  depth  table  price     x     y     z\n",
       "0   0.23   -1     E       -1   61.5   55.0    326  3.95  3.98  2.43\n",
       "1   0.21   -1     E       -1   59.8   61.0    326  3.89  3.84  2.31"
      ]
     },
     "execution_count": 73,
     "metadata": {},
     "output_type": "execute_result"
    }
   ],
   "source": [
    "df_dia2.head(2)"
   ]
  },
  {
   "cell_type": "code",
   "execution_count": 74,
   "id": "b66e55aa-53e3-4793-bebf-178f60698bfd",
   "metadata": {},
   "outputs": [
    {
     "data": {
      "text/plain": [
       "cut              [-1]\n",
       "color      [E, -1, J]\n",
       "clarity          [-1]\n",
       "dtype: object"
      ]
     },
     "execution_count": 74,
     "metadata": {},
     "output_type": "execute_result"
    }
   ],
   "source": [
    "df_dia2.iloc[:, 1:4].apply(lambda x: x.unique())"
   ]
  },
  {
   "cell_type": "code",
   "execution_count": null,
   "id": "aa8f94ee-2ea5-4238-b7af-2aef1502be6a",
   "metadata": {},
   "outputs": [],
   "source": []
  }
 ],
 "metadata": {
  "kernelspec": {
   "display_name": "Python 3 (ipykernel)",
   "language": "python",
   "name": "python3"
  },
  "language_info": {
   "codemirror_mode": {
    "name": "ipython",
    "version": 3
   },
   "file_extension": ".py",
   "mimetype": "text/x-python",
   "name": "python",
   "nbconvert_exporter": "python",
   "pygments_lexer": "ipython3",
   "version": "3.11.4"
  }
 },
 "nbformat": 4,
 "nbformat_minor": 5
}
