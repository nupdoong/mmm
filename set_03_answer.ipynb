{
 "cells": [
  {
   "cell_type": "code",
   "execution_count": 1,
   "id": "a860f6ee-49d7-4cfe-8a3a-624c5c67bdae",
   "metadata": {},
   "outputs": [],
   "source": [
    "import pandas as pd\n",
    "import numpy as np\n",
    "\n",
    "from sklearn.preprocessing import MinMaxScaler\n",
    "from sklearn.model_selection import train_test_split\n",
    "from sklearn.neighbors import KNeighborsRegressor\n",
    "from sklearn.metrics import mean_squared_error"
   ]
  },
  {
   "cell_type": "code",
   "execution_count": 2,
   "id": "de976449-1242-4001-b514-f218fc3d1397",
   "metadata": {},
   "outputs": [
    {
     "data": {
      "text/html": [
       "<div>\n",
       "<style scoped>\n",
       "    .dataframe tbody tr th:only-of-type {\n",
       "        vertical-align: middle;\n",
       "    }\n",
       "\n",
       "    .dataframe tbody tr th {\n",
       "        vertical-align: top;\n",
       "    }\n",
       "\n",
       "    .dataframe thead th {\n",
       "        text-align: right;\n",
       "    }\n",
       "</style>\n",
       "<table border=\"1\" class=\"dataframe\">\n",
       "  <thead>\n",
       "    <tr style=\"text-align: right;\">\n",
       "      <th></th>\n",
       "      <th>screen_size</th>\n",
       "      <th>ROM</th>\n",
       "      <th>RAM</th>\n",
       "      <th>num_rear_camera</th>\n",
       "      <th>num_front_camera</th>\n",
       "      <th>battery_capacity</th>\n",
       "      <th>ratings</th>\n",
       "      <th>num_of_ratings</th>\n",
       "      <th>sales_price</th>\n",
       "      <th>discount_percent</th>\n",
       "      <th>sales</th>\n",
       "    </tr>\n",
       "  </thead>\n",
       "  <tbody>\n",
       "    <tr>\n",
       "      <th>0</th>\n",
       "      <td>Very Small</td>\n",
       "      <td>64</td>\n",
       "      <td>2</td>\n",
       "      <td>1</td>\n",
       "      <td>1</td>\n",
       "      <td>1800</td>\n",
       "      <td>4.5</td>\n",
       "      <td>38645</td>\n",
       "      <td>32999</td>\n",
       "      <td>0.17</td>\n",
       "      <td>127.52</td>\n",
       "    </tr>\n",
       "    <tr>\n",
       "      <th>1</th>\n",
       "      <td>Small</td>\n",
       "      <td>64</td>\n",
       "      <td>4</td>\n",
       "      <td>2</td>\n",
       "      <td>1</td>\n",
       "      <td>2815</td>\n",
       "      <td>4.5</td>\n",
       "      <td>244</td>\n",
       "      <td>57149</td>\n",
       "      <td>0.04</td>\n",
       "      <td>1.39</td>\n",
       "    </tr>\n",
       "  </tbody>\n",
       "</table>\n",
       "</div>"
      ],
      "text/plain": [
       "  screen_size  ROM  RAM  num_rear_camera  num_front_camera  battery_capacity  \\\n",
       "0  Very Small   64    2                1                 1              1800   \n",
       "1       Small   64    4                2                 1              2815   \n",
       "\n",
       "   ratings  num_of_ratings  sales_price  discount_percent   sales  \n",
       "0      4.5           38645        32999              0.17  127.52  \n",
       "1      4.5             244        57149              0.04    1.39  "
      ]
     },
     "execution_count": 2,
     "metadata": {},
     "output_type": "execute_result"
    }
   ],
   "source": [
    "df = pd.read_csv(\"mobiles.csv\")\n",
    "df.head(2)"
   ]
  },
  {
   "cell_type": "markdown",
   "id": "7bf6e3e0-382c-4083-8f62-d5980875690a",
   "metadata": {},
   "source": [
    "### Q1."
   ]
  },
  {
   "cell_type": "code",
   "execution_count": 4,
   "id": "6fbd019f-f528-4b10-8a5b-4e02813f9b21",
   "metadata": {},
   "outputs": [
    {
     "data": {
      "text/plain": [
       "146.55150129273215"
      ]
     },
     "execution_count": 4,
     "metadata": {},
     "output_type": "execute_result"
    }
   ],
   "source": [
    "stat_mean = df[\"sales\"].mean()\n",
    "stat_std  = df[\"sales\"].std()\n",
    "stat_out  = stat_mean + 2 * stat_std\n",
    "stat_out"
   ]
  },
  {
   "cell_type": "code",
   "execution_count": 6,
   "id": "8635922b-bb88-48c5-9fca-edadf2f0111a",
   "metadata": {},
   "outputs": [
    {
     "data": {
      "text/plain": [
       "(16, 11)"
      ]
     },
     "execution_count": 6,
     "metadata": {},
     "output_type": "execute_result"
    }
   ],
   "source": [
    "df_q1 = df.loc[df[\"sales\"] > stat_out, ]\n",
    "df_q1.shape"
   ]
  },
  {
   "cell_type": "code",
   "execution_count": null,
   "id": "207f7f5f-e3df-4017-9289-3f96478120cc",
   "metadata": {},
   "outputs": [],
   "source": [
    "df_q1[\"idx\"] = (df_q1[\"ROM\"] / 32) + (df_q1[\"RAM\"] / 2) + \\\n",
    "(df_q1[\"num_front_camera\"] + df_q1[\"num_rear_camera\"]) + (df_q1[\"battery_capacity\"] / 1000)"
   ]
  },
  {
   "cell_type": "code",
   "execution_count": 9,
   "id": "f89d2401-0fdb-4fd2-b318-49794f3f6ae2",
   "metadata": {},
   "outputs": [
    {
     "data": {
      "text/plain": [
       "11.01"
      ]
     },
     "execution_count": 9,
     "metadata": {},
     "output_type": "execute_result"
    }
   ],
   "source": [
    "round(df_q1[\"idx\"].mean(), 2)"
   ]
  },
  {
   "cell_type": "markdown",
   "id": "d35afa25-d1ff-4c89-80ae-83f9074356f2",
   "metadata": {},
   "source": [
    "### Q2."
   ]
  },
  {
   "cell_type": "code",
   "execution_count": 12,
   "id": "17bb083d-3d2a-4136-a57d-8c681c3d545f",
   "metadata": {},
   "outputs": [
    {
     "data": {
      "text/plain": [
       "array([1, 2, 3, 4], dtype=int64)"
      ]
     },
     "execution_count": 12,
     "metadata": {},
     "output_type": "execute_result"
    }
   ],
   "source": [
    "df[\"num_rear_camera\"].unique()"
   ]
  },
  {
   "cell_type": "code",
   "execution_count": null,
   "id": "9ea89cd0-39c4-42a2-95ef-34acf2c577cb",
   "metadata": {},
   "outputs": [],
   "source": [
    "df_q2 = df.loc[df[\"num_rear_camera\"] != 1, \"battery_capacity\":]\n",
    "df_q2.head(1)"
   ]
  },
  {
   "cell_type": "code",
   "execution_count": 18,
   "id": "ea46d7ae-4ecd-4829-b157-9e012b895111",
   "metadata": {},
   "outputs": [
    {
     "data": {
      "text/plain": [
       "pandas.core.frame.DataFrame"
      ]
     },
     "execution_count": 18,
     "metadata": {},
     "output_type": "execute_result"
    }
   ],
   "source": [
    "df_corr = df_q2.corr()\n",
    "type(df_corr)"
   ]
  },
  {
   "cell_type": "code",
   "execution_count": 23,
   "id": "ed71e4ed-7ebb-4a77-af31-363878ef40fa",
   "metadata": {},
   "outputs": [],
   "source": [
    "df_corr[\"sales\"].abs().round(2) # 0.95"
   ]
  },
  {
   "cell_type": "code",
   "execution_count": 25,
   "id": "1aa38c69-4fa4-4864-95ee-40d2e9e3d2a5",
   "metadata": {},
   "outputs": [
    {
     "data": {
      "text/plain": [
       "0.95"
      ]
     },
     "execution_count": 25,
     "metadata": {},
     "output_type": "execute_result"
    }
   ],
   "source": [
    "df_corr[\"sales\"].drop(\"sales\").abs().round(2).max()"
   ]
  },
  {
   "cell_type": "markdown",
   "id": "8b922265-f119-4024-86db-e77b16a950f7",
   "metadata": {},
   "source": [
    "### Q3."
   ]
  },
  {
   "cell_type": "markdown",
   "id": "94e3f598-062c-4ecc-9141-c60d87d98b00",
   "metadata": {},
   "source": [
    "`pd.get_dummies()`는 다른 메서드/함수/클래스와 다르게 \"columns\" 인자에 단일 값을 할당하는 경우에도 반드시 🌟**리스트**🌟 객체를 사용하여 할당해야 한다. 단순 문자열을 할당할 경우 에러가 난다.\n",
    "\n",
    "그리고 원핫인코딩을 실시할 때 변수명에 띄어쓰기가 있을 수 있는데 `statsmodels` 라이브러리 기반 모델링을 하면서 formula 를 사용하는 경우 변수명에 띄어쓰기를 제거하지 않은 채로 formula를 작성하면 반드시 에러가 발생함. 그리고 이 이슈는 이전 시험에서 응시자가 어려움을 겪은 사례가 있음.  \n",
    "※ 다음의 코드 결과에서는 \"screen_size_Very Large\"  \n",
    "※ \"screen_size_Very Large\" -> \"screen_size_Very_Large\""
   ]
  },
  {
   "cell_type": "code",
   "execution_count": null,
   "id": "6e1aada1-cd90-4df2-ba71-5d381b3a4cf8",
   "metadata": {},
   "outputs": [],
   "source": [
    "# df_q3_dum = pd.get_dummies(df, columns = [\"screen_size\"]) # 시험버전\n",
    "df_q3_dum = pd.get_dummies(df, columns = [\"screen_size\"], dtype = \"int\")\n",
    "df_q3_dum.head(2)"
   ]
  },
  {
   "cell_type": "code",
   "execution_count": null,
   "id": "53c37073-2d21-4fe0-80ec-5fdd1b5165da",
   "metadata": {},
   "outputs": [],
   "source": [
    "df_q3_dum.shape"
   ]
  },
  {
   "cell_type": "code",
   "execution_count": null,
   "id": "ec88d140-c27b-4e6a-9434-d7f1b28a2992",
   "metadata": {},
   "outputs": [],
   "source": [
    "df_q3_dum = df_q3_dum.set_index(\"sales\").reset_index()\n",
    "df_q3_dum.head(1)"
   ]
  },
  {
   "cell_type": "code",
   "execution_count": 35,
   "id": "8eb86e3d-14c6-4ead-ba0a-6099f8efa619",
   "metadata": {},
   "outputs": [
    {
     "data": {
      "text/plain": [
       "(344, 86)"
      ]
     },
     "execution_count": 35,
     "metadata": {},
     "output_type": "execute_result"
    }
   ],
   "source": [
    "df_train, df_test = train_test_split(df_q3_dum, train_size = 0.8, random_state = 123)\n",
    "len(df_train), len(df_test)"
   ]
  },
  {
   "cell_type": "code",
   "execution_count": 36,
   "id": "8d4a247a-f08b-4396-8626-cd057d8eb6d9",
   "metadata": {},
   "outputs": [],
   "source": [
    "model_nor = MinMaxScaler().fit(df_train)\n",
    "arr_train_nor = model_nor.transform(df_train)\n",
    "arr_test_nor  = model_nor.transform(df_test)"
   ]
  },
  {
   "cell_type": "code",
   "execution_count": null,
   "id": "4e81695f-82f1-4f4c-9cbc-40130c22eb15",
   "metadata": {},
   "outputs": [],
   "source": [
    "arr_train_nor[:1, ]"
   ]
  },
  {
   "cell_type": "code",
   "execution_count": null,
   "id": "7ee4e020-9c0f-45fc-94c2-b0c08de122b7",
   "metadata": {},
   "outputs": [],
   "source": [
    "k = 3\n",
    "model_knn = KNeighborsRegressor(n_neighbors = k)\n",
    "model_knn.fit(X = arr_train_nor[:, 1:],\n",
    "              y = arr_train_nor[:, 0])\n",
    "pred = model_knn.predict(arr_test_nor[:, 1:])\n",
    "mean_squared_error(y_true = arr_test_nor[:, 0], y_pred = pred) ** 0.5"
   ]
  },
  {
   "cell_type": "code",
   "execution_count": 46,
   "id": "44b8e6fd-6a4a-4fe7-a358-49aa1847523c",
   "metadata": {},
   "outputs": [],
   "source": [
    "ls_k = [3, 5, 7, 9, 11]\n",
    "ls_rmse = []\n",
    "for k in ls_k:\n",
    "    model_knn = KNeighborsRegressor(n_neighbors = k)\n",
    "    model_knn.fit(X = arr_train_nor[:, 1:],\n",
    "                  y = arr_train_nor[:, 0])\n",
    "    pred = model_knn.predict(arr_test_nor[:, 1:])\n",
    "    val_rmse = mean_squared_error(y_true = arr_test_nor[:, 0], y_pred = pred) ** 0.5\n",
    "    ls_rmse = ls_rmse + [val_rmse]"
   ]
  },
  {
   "cell_type": "code",
   "execution_count": 50,
   "id": "f505c70b-f258-4cc0-96f2-f3428c125a99",
   "metadata": {},
   "outputs": [
    {
     "data": {
      "text/plain": [
       "[0.08186677375964535,\n",
       " 0.09879109824384892,\n",
       " 0.107669855645971,\n",
       " 0.11232111394853059,\n",
       " 0.1136902366621185]"
      ]
     },
     "execution_count": 50,
     "metadata": {},
     "output_type": "execute_result"
    }
   ],
   "source": [
    "ls_rmse # 3!!!"
   ]
  },
  {
   "cell_type": "code",
   "execution_count": 48,
   "id": "763ceea2-0684-40e3-913a-468d27e1e043",
   "metadata": {},
   "outputs": [
    {
     "data": {
      "text/plain": [
       "3     0.081867\n",
       "5     0.098791\n",
       "7     0.107670\n",
       "9     0.112321\n",
       "11    0.113690\n",
       "dtype: float64"
      ]
     },
     "execution_count": 48,
     "metadata": {},
     "output_type": "execute_result"
    }
   ],
   "source": [
    "ser_rmse = pd.Series(ls_rmse, index = ls_k)\n",
    "ser_rmse # 3 !!!"
   ]
  },
  {
   "cell_type": "code",
   "execution_count": 49,
   "id": "459c0652-1bd2-42fe-8af9-b7e86ec61e6c",
   "metadata": {},
   "outputs": [
    {
     "data": {
      "text/plain": [
       "3"
      ]
     },
     "execution_count": 49,
     "metadata": {},
     "output_type": "execute_result"
    }
   ],
   "source": [
    "best_k = ser_rmse.idxmin()\n",
    "best_k"
   ]
  },
  {
   "cell_type": "markdown",
   "id": "0d10072d-319f-4feb-b954-6077e39d4d12",
   "metadata": {},
   "source": [
    "### Q3. \\[추가 지시사항\\] 다음은 저번달에 신규 출시된 경쟁사의 스마트폰 정보이다. 해당 스마트폰의 판매지수는 얼마로 예상되는가?  \n",
    "> **단계 1)** 주어진 데이터는 기존 원핫인코딩 규칙을 기반으로 더미변수를 생성하시오.  \n",
    "> **단계 2)** 기존 정규화 규칙을 기반으로 주어진 데이터를 정규화 하시오.  \n",
    "> **단계 3)** 기존에 정제한 학습 데이터 세트와 이웃 개수는 직전에 최적이라고 판단한 k값을 사용한 k-NN 모델을 준비하시오.  \n",
    "> **단계 4)** 준비된 k-NN 모델에 \"단계 2\"에서 산출한 데이터 세트를 입력하고 그 결과를 확인하시오.  \n",
    "> **단계 5)** \"단계 4\"의 결과물을 기존 정규화 규칙을 기반으로 역변환 하시오.  \n",
    "\n",
    "※ 정답은 반올림하여 소수 첫째 자리까지 출력하시오.  \n",
    "(정답 예시: 0.1)\n",
    "* ROM: 256\n",
    "* RAM: 6\n",
    "* num_rear_camera: 4\n",
    "* num_front_camera: 1\n",
    "* battery_capacity: 4000\n",
    "* ratings: 4.3\n",
    "* num_of_ratings: 25000\n",
    "* sales_price: 85000\n",
    "* discount_percent: 0.05\n",
    "* screen_size: \"Large\"\n"
   ]
  },
  {
   "cell_type": "code",
   "execution_count": 54,
   "id": "f35332cf-a6d7-4867-b98c-bf75afaf09fb",
   "metadata": {},
   "outputs": [],
   "source": [
    "df_t1 = df_test.head(1).reset_index(drop = True)\n",
    "df_t1[\"RAM\"] = 6\n",
    "df_t1[\"num_rear_camera\"] = 4\n",
    "df_t1[\"battery_capacity\"] = 4000\n",
    "df_t1[\"ratings\"] = 4.3\n",
    "df_t1[\"num_of_ratings\"] = 25000\n",
    "df_t1[\"sales_price\"] = 85000\n",
    "df_t1[\"discount_percent\"] = 0.05\n",
    "df_t1[\"screen_size_Large\"] = 1\n",
    "df_t1[\"screen_size_Medium\"] = 0"
   ]
  },
  {
   "cell_type": "code",
   "execution_count": 59,
   "id": "57686fca-2f8b-4975-8561-3ef54cfea86f",
   "metadata": {},
   "outputs": [
    {
     "data": {
      "text/html": [
       "<div>\n",
       "<style scoped>\n",
       "    .dataframe tbody tr th:only-of-type {\n",
       "        vertical-align: middle;\n",
       "    }\n",
       "\n",
       "    .dataframe tbody tr th {\n",
       "        vertical-align: top;\n",
       "    }\n",
       "\n",
       "    .dataframe thead th {\n",
       "        text-align: right;\n",
       "    }\n",
       "</style>\n",
       "<table border=\"1\" class=\"dataframe\">\n",
       "  <thead>\n",
       "    <tr style=\"text-align: right;\">\n",
       "      <th></th>\n",
       "      <th>sales</th>\n",
       "      <th>ROM</th>\n",
       "      <th>RAM</th>\n",
       "      <th>num_rear_camera</th>\n",
       "      <th>num_front_camera</th>\n",
       "      <th>battery_capacity</th>\n",
       "      <th>ratings</th>\n",
       "      <th>num_of_ratings</th>\n",
       "      <th>sales_price</th>\n",
       "      <th>discount_percent</th>\n",
       "      <th>screen_size_Large</th>\n",
       "      <th>screen_size_Medium</th>\n",
       "      <th>screen_size_Small</th>\n",
       "      <th>screen_size_Very Large</th>\n",
       "      <th>screen_size_Very Small</th>\n",
       "    </tr>\n",
       "  </thead>\n",
       "  <tbody>\n",
       "    <tr>\n",
       "      <th>0</th>\n",
       "      <td>5.9</td>\n",
       "      <td>256</td>\n",
       "      <td>6</td>\n",
       "      <td>4</td>\n",
       "      <td>1</td>\n",
       "      <td>4000</td>\n",
       "      <td>4.3</td>\n",
       "      <td>25000</td>\n",
       "      <td>85000</td>\n",
       "      <td>0.05</td>\n",
       "      <td>1</td>\n",
       "      <td>0</td>\n",
       "      <td>0</td>\n",
       "      <td>0</td>\n",
       "      <td>0</td>\n",
       "    </tr>\n",
       "  </tbody>\n",
       "</table>\n",
       "</div>"
      ],
      "text/plain": [
       "   sales  ROM  RAM  num_rear_camera  num_front_camera  battery_capacity  \\\n",
       "0    5.9  256    6                4                 1              4000   \n",
       "\n",
       "   ratings  num_of_ratings  sales_price  discount_percent  screen_size_Large  \\\n",
       "0      4.3           25000        85000              0.05                  1   \n",
       "\n",
       "   screen_size_Medium  screen_size_Small  screen_size_Very Large  \\\n",
       "0                   0                  0                       0   \n",
       "\n",
       "   screen_size_Very Small  \n",
       "0                       0  "
      ]
     },
     "execution_count": 59,
     "metadata": {},
     "output_type": "execute_result"
    }
   ],
   "source": [
    "df_t1"
   ]
  },
  {
   "cell_type": "code",
   "execution_count": 56,
   "id": "13d00bdb-ac1c-4883-b8ce-c4efbaf63b63",
   "metadata": {},
   "outputs": [
    {
     "data": {
      "text/plain": [
       "array([[0., 0., 0., 0., 0., 0., 0., 0., 0., 0., 0., 0., 0., 0., 0.]])"
      ]
     },
     "execution_count": 56,
     "metadata": {},
     "output_type": "execute_result"
    }
   ],
   "source": [
    "MinMaxScaler().fit_transform(df_t1)"
   ]
  },
  {
   "cell_type": "code",
   "execution_count": 64,
   "id": "f1bfd917-2f62-4930-ae4f-4435a16537c4",
   "metadata": {},
   "outputs": [
    {
     "data": {
      "text/plain": [
       "array([[0.0119438 , 0.49206349, 0.45454545, 1.        , 0.        ,\n",
       "        0.42307692, 0.625     , 0.05308122, 0.51815842, 0.09302326,\n",
       "        1.        , 0.        , 0.        , 0.        , 0.        ]])"
      ]
     },
     "execution_count": 64,
     "metadata": {},
     "output_type": "execute_result"
    }
   ],
   "source": [
    "# model_nor.transform(df_t1.drop(columns = \"sales\"))\n",
    "arr_t1_nor = model_nor.transform(df_t1)\n",
    "arr_t1_nor"
   ]
  },
  {
   "cell_type": "code",
   "execution_count": 69,
   "id": "d4327b2f-a6e1-4970-a055-0046c1bc17a2",
   "metadata": {},
   "outputs": [
    {
     "data": {
      "text/plain": [
       "array([0.00132259])"
      ]
     },
     "execution_count": 69,
     "metadata": {},
     "output_type": "execute_result"
    }
   ],
   "source": [
    "model_knn_b = KNeighborsRegressor(n_neighbors = best_k)\n",
    "model_knn_b.fit(X = arr_train_nor[:, 1:],\n",
    "                y = arr_train_nor[:, 0])\n",
    "pred_t1 = model_knn_b.predict(arr_t1_nor[:, 1:])\n",
    "pred_t1"
   ]
  },
  {
   "cell_type": "code",
   "execution_count": null,
   "id": "3c8400b8-9a3b-46a1-a68f-c49071002ee4",
   "metadata": {},
   "outputs": [],
   "source": [
    "# model_nor.inverse_transform(pred_t1)\n",
    "# model_nor.inverse_transform([pred_t1])\n",
    "\n",
    "arr_t1_nor[0, 0] = pred_t1\n",
    "arr_t1_inv = model_nor.inverse_transform(arr_t1_nor)\n",
    "arr_t1_inv"
   ]
  },
  {
   "cell_type": "code",
   "execution_count": 76,
   "id": "b1247824-a276-4a02-a701-e4ec09df81f9",
   "metadata": {},
   "outputs": [
    {
     "data": {
      "text/plain": [
       "0.7"
      ]
     },
     "execution_count": 76,
     "metadata": {},
     "output_type": "execute_result"
    }
   ],
   "source": [
    "round(arr_t1_inv[0, 0], 1)"
   ]
  },
  {
   "cell_type": "code",
   "execution_count": 77,
   "id": "b66335d1-cbba-41c1-8bf7-15e574b69056",
   "metadata": {},
   "outputs": [
    {
     "data": {
      "text/html": [
       "<div>\n",
       "<style scoped>\n",
       "    .dataframe tbody tr th:only-of-type {\n",
       "        vertical-align: middle;\n",
       "    }\n",
       "\n",
       "    .dataframe tbody tr th {\n",
       "        vertical-align: top;\n",
       "    }\n",
       "\n",
       "    .dataframe thead th {\n",
       "        text-align: right;\n",
       "    }\n",
       "</style>\n",
       "<table border=\"1\" class=\"dataframe\">\n",
       "  <thead>\n",
       "    <tr style=\"text-align: right;\">\n",
       "      <th></th>\n",
       "      <th>sales</th>\n",
       "      <th>ROM</th>\n",
       "      <th>RAM</th>\n",
       "      <th>num_rear_camera</th>\n",
       "      <th>num_front_camera</th>\n",
       "      <th>battery_capacity</th>\n",
       "      <th>ratings</th>\n",
       "      <th>num_of_ratings</th>\n",
       "      <th>sales_price</th>\n",
       "      <th>discount_percent</th>\n",
       "      <th>screen_size_Large</th>\n",
       "      <th>screen_size_Medium</th>\n",
       "      <th>screen_size_Small</th>\n",
       "      <th>screen_size_Very Large</th>\n",
       "      <th>screen_size_Very Small</th>\n",
       "    </tr>\n",
       "  </thead>\n",
       "  <tbody>\n",
       "    <tr>\n",
       "      <th>0</th>\n",
       "      <td>0.653333</td>\n",
       "      <td>256.0</td>\n",
       "      <td>6.0</td>\n",
       "      <td>4.0</td>\n",
       "      <td>1.0</td>\n",
       "      <td>4000.0</td>\n",
       "      <td>4.3</td>\n",
       "      <td>25000.0</td>\n",
       "      <td>85000.0</td>\n",
       "      <td>0.05</td>\n",
       "      <td>1.0</td>\n",
       "      <td>0.0</td>\n",
       "      <td>0.0</td>\n",
       "      <td>0.0</td>\n",
       "      <td>0.0</td>\n",
       "    </tr>\n",
       "  </tbody>\n",
       "</table>\n",
       "</div>"
      ],
      "text/plain": [
       "      sales    ROM  RAM  num_rear_camera  num_front_camera  battery_capacity  \\\n",
       "0  0.653333  256.0  6.0              4.0               1.0            4000.0   \n",
       "\n",
       "   ratings  num_of_ratings  sales_price  discount_percent  screen_size_Large  \\\n",
       "0      4.3         25000.0      85000.0              0.05                1.0   \n",
       "\n",
       "   screen_size_Medium  screen_size_Small  screen_size_Very Large  \\\n",
       "0                 0.0                0.0                     0.0   \n",
       "\n",
       "   screen_size_Very Small  \n",
       "0                     0.0  "
      ]
     },
     "execution_count": 77,
     "metadata": {},
     "output_type": "execute_result"
    }
   ],
   "source": [
    "df_t1_inv = pd.DataFrame(arr_t1_inv, columns = df_test.columns)\n",
    "df_t1_inv"
   ]
  },
  {
   "cell_type": "code",
   "execution_count": 78,
   "id": "a0bc8e56-4505-4604-84ba-dbfd20d0d105",
   "metadata": {},
   "outputs": [
    {
     "data": {
      "text/html": [
       "<div>\n",
       "<style scoped>\n",
       "    .dataframe tbody tr th:only-of-type {\n",
       "        vertical-align: middle;\n",
       "    }\n",
       "\n",
       "    .dataframe tbody tr th {\n",
       "        vertical-align: top;\n",
       "    }\n",
       "\n",
       "    .dataframe thead th {\n",
       "        text-align: right;\n",
       "    }\n",
       "</style>\n",
       "<table border=\"1\" class=\"dataframe\">\n",
       "  <thead>\n",
       "    <tr style=\"text-align: right;\">\n",
       "      <th></th>\n",
       "      <th>sales</th>\n",
       "      <th>ROM</th>\n",
       "      <th>RAM</th>\n",
       "      <th>num_rear_camera</th>\n",
       "      <th>num_front_camera</th>\n",
       "      <th>battery_capacity</th>\n",
       "      <th>ratings</th>\n",
       "      <th>num_of_ratings</th>\n",
       "      <th>sales_price</th>\n",
       "      <th>discount_percent</th>\n",
       "      <th>screen_size_Large</th>\n",
       "      <th>screen_size_Medium</th>\n",
       "      <th>screen_size_Small</th>\n",
       "      <th>screen_size_Very Large</th>\n",
       "      <th>screen_size_Very Small</th>\n",
       "    </tr>\n",
       "  </thead>\n",
       "  <tbody>\n",
       "    <tr>\n",
       "      <th>0</th>\n",
       "      <td>5.9</td>\n",
       "      <td>256</td>\n",
       "      <td>6</td>\n",
       "      <td>4</td>\n",
       "      <td>1</td>\n",
       "      <td>4000</td>\n",
       "      <td>4.3</td>\n",
       "      <td>25000</td>\n",
       "      <td>85000</td>\n",
       "      <td>0.05</td>\n",
       "      <td>1</td>\n",
       "      <td>0</td>\n",
       "      <td>0</td>\n",
       "      <td>0</td>\n",
       "      <td>0</td>\n",
       "    </tr>\n",
       "  </tbody>\n",
       "</table>\n",
       "</div>"
      ],
      "text/plain": [
       "   sales  ROM  RAM  num_rear_camera  num_front_camera  battery_capacity  \\\n",
       "0    5.9  256    6                4                 1              4000   \n",
       "\n",
       "   ratings  num_of_ratings  sales_price  discount_percent  screen_size_Large  \\\n",
       "0      4.3           25000        85000              0.05                  1   \n",
       "\n",
       "   screen_size_Medium  screen_size_Small  screen_size_Very Large  \\\n",
       "0                   0                  0                       0   \n",
       "\n",
       "   screen_size_Very Small  \n",
       "0                       0  "
      ]
     },
     "execution_count": 78,
     "metadata": {},
     "output_type": "execute_result"
    }
   ],
   "source": [
    "df_t1"
   ]
  },
  {
   "cell_type": "code",
   "execution_count": null,
   "id": "51859b87-3d42-4674-8287-cac9e88ce6a0",
   "metadata": {},
   "outputs": [],
   "source": []
  },
  {
   "cell_type": "code",
   "execution_count": null,
   "id": "4e2702ba-f388-4676-8b68-b8a6c4beec34",
   "metadata": {},
   "outputs": [],
   "source": []
  }
 ],
 "metadata": {
  "kernelspec": {
   "display_name": "Python 3 (ipykernel)",
   "language": "python",
   "name": "python3"
  },
  "language_info": {
   "codemirror_mode": {
    "name": "ipython",
    "version": 3
   },
   "file_extension": ".py",
   "mimetype": "text/x-python",
   "name": "python",
   "nbconvert_exporter": "python",
   "pygments_lexer": "ipython3",
   "version": "3.11.4"
  }
 },
 "nbformat": 4,
 "nbformat_minor": 5
}
